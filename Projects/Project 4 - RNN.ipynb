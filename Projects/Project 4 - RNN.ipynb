{
 "cells": [
  {
   "cell_type": "markdown",
   "metadata": {},
   "source": [
    "# Importing libraries and modules"
   ]
  },
  {
   "cell_type": "code",
   "execution_count": 1,
   "metadata": {},
   "outputs": [
    {
     "name": "stderr",
     "output_type": "stream",
     "text": [
      "/Users/Kuba/miniforge3/envs/SSNE/lib/python3.8/site-packages/tqdm/auto.py:22: TqdmWarning: IProgress not found. Please update jupyter and ipywidgets. See https://ipywidgets.readthedocs.io/en/stable/user_install.html\n",
      "  from .autonotebook import tqdm as notebook_tqdm\n"
     ]
    }
   ],
   "source": [
    "import os\n",
    "import csv\n",
    "import pickle\n",
    "import numpy as np\n",
    "import matplotlib.pyplot as plt\n",
    "\n",
    "from collections import Counter\n",
    "from tqdm import tqdm\n",
    "\n",
    "import torch\n",
    "import torch.nn as nn\n",
    "from torch.utils.data import Dataset, DataLoader\n",
    "from torch.nn.utils.rnn import pad_sequence, pack_sequence, pack_padded_sequence\n",
    "\n",
    "from sklearn.utils.class_weight import compute_class_weight\n",
    "from sklearn.model_selection import train_test_split"
   ]
  },
  {
   "cell_type": "markdown",
   "metadata": {},
   "source": [
    "# Helper functions"
   ]
  },
  {
   "cell_type": "code",
   "execution_count": 2,
   "metadata": {},
   "outputs": [],
   "source": [
    "class EarlyStopping():\n",
    "    def __init__(self, tolerance=5, min_delta=0):\n",
    "\n",
    "        self.tolerance = tolerance\n",
    "        self.min_delta = min_delta\n",
    "        self.counter = 0\n",
    "        self.early_stop = False\n",
    "\n",
    "    def __call__(self, train_loss, validation_loss):\n",
    "        if (validation_loss - train_loss) > self.min_delta:\n",
    "            self.counter +=1\n",
    "            if self.counter >= self.tolerance:  \n",
    "                self.early_stop = True"
   ]
  },
  {
   "cell_type": "code",
   "execution_count": 3,
   "metadata": {},
   "outputs": [],
   "source": [
    "def get_device():\n",
    "    \"\"\"Returns the available device for computation.\n",
    "    Returns:\n",
    "        torch.device: available device for computation\n",
    "    \"\"\"\n",
    "    compute_device = None\n",
    "    if torch.cuda.is_available():\n",
    "        compute_device = torch.device('cuda')\n",
    "    elif torch.backends.mps.is_available():\n",
    "        compute_device = torch.device('mps')\n",
    "    else:\n",
    "        compute_device = torch.device('cpu')\n",
    "    \n",
    "    print(f'device is {compute_device}')\n",
    "    return compute_device\n",
    "\n",
    "\n",
    "def save_predictions_to_csv(predictions, file_path):\n",
    "    with open(file_path, \"w\") as f:\n",
    "        writer = csv.writer(f)\n",
    "        writer.writerows(predictions.items())\n",
    "        \n",
    "\n",
    "def save_to_csv(numpy_array: np.ndarray, filename: str):\n",
    "    np.savetxt(filename, numpy_array, delimiter=\",\", fmt='%1d')"
   ]
  },
  {
   "cell_type": "markdown",
   "metadata": {},
   "source": [
    "# Params and constants"
   ]
  },
  {
   "cell_type": "code",
   "execution_count": 4,
   "metadata": {},
   "outputs": [
    {
     "name": "stdout",
     "output_type": "stream",
     "text": [
      "device is mps\n"
     ]
    }
   ],
   "source": [
    "random_seed = 100\n",
    "device = get_device()\n",
    "# device = torch.device('cpu')\n",
    "\n",
    "VAL_SET_FRACTION = 0.10\n",
    "\n",
    "class_names = {0: 'bach', 1: 'beethoven', 2: 'debussy', 3: 'scarlatti', 4: 'victoria'}\n",
    "\n",
    "train_data_path = 'train.pkl'\n",
    "test_data_opath = 'test_no_target.pkl'"
   ]
  },
  {
   "cell_type": "code",
   "execution_count": 5,
   "metadata": {},
   "outputs": [],
   "source": [
    "torch.manual_seed(random_seed)\n",
    "np.random.seed(random_seed)"
   ]
  },
  {
   "cell_type": "markdown",
   "metadata": {},
   "source": [
    "# Loading data"
   ]
  },
  {
   "cell_type": "code",
   "execution_count": 6,
   "metadata": {},
   "outputs": [],
   "source": [
    "with open(train_data_path, 'rb') as pickle_file:\n",
    "    data = np.array(pickle.load(pickle_file), dtype=object)"
   ]
  },
  {
   "cell_type": "code",
   "execution_count": 7,
   "metadata": {},
   "outputs": [
    {
     "data": {
      "text/plain": [
       "((2939,), (2939,))"
      ]
     },
     "execution_count": 7,
     "metadata": {},
     "output_type": "execute_result"
    }
   ],
   "source": [
    "samples, labels = data[:, 0], data[:, 1]\n",
    "\n",
    "samples.shape, labels.shape "
   ]
  },
  {
   "cell_type": "code",
   "execution_count": 8,
   "metadata": {},
   "outputs": [],
   "source": [
    "X = []\n",
    "y = []\n",
    "\n",
    "for sample, label in zip(samples, labels):\n",
    "    X.append(torch.from_numpy(sample).type(torch.float32)) # TODO convert to double\n",
    "    y.append(label)\n",
    "\n",
    "y = torch.Tensor(y).type(torch.LongTensor).view(-1, 1)"
   ]
  },
  {
   "cell_type": "code",
   "execution_count": 9,
   "metadata": {},
   "outputs": [],
   "source": [
    "assert len(X) == len(y)"
   ]
  },
  {
   "cell_type": "code",
   "execution_count": 10,
   "metadata": {},
   "outputs": [
    {
     "data": {
      "text/plain": [
       "5"
      ]
     },
     "execution_count": 10,
     "metadata": {},
     "output_type": "execute_result"
    }
   ],
   "source": [
    "num_classes = len(np.unique(y))\n",
    "num_classes"
   ]
  },
  {
   "cell_type": "markdown",
   "metadata": {},
   "source": [
    "# EDA"
   ]
  },
  {
   "cell_type": "markdown",
   "metadata": {},
   "source": [
    "### Sample values distribution"
   ]
  },
  {
   "cell_type": "code",
   "execution_count": 11,
   "metadata": {},
   "outputs": [],
   "source": [
    "X_sum = torch.concat(X)"
   ]
  },
  {
   "cell_type": "code",
   "execution_count": 12,
   "metadata": {},
   "outputs": [
    {
     "data": {
      "text/plain": [
       "(tensor(-1.), tensor(191.))"
      ]
     },
     "execution_count": 12,
     "metadata": {},
     "output_type": "execute_result"
    }
   ],
   "source": [
    "X_sum.min(), X_sum.max()"
   ]
  },
  {
   "cell_type": "code",
   "execution_count": 13,
   "metadata": {},
   "outputs": [
    {
     "data": {
      "image/png": "[encoded data removed]",
      "text/plain": [
       "<Figure size 640x480 with 1 Axes>"
      ]
     },
     "metadata": {},
     "output_type": "display_data"
    }
   ],
   "source": [
    "plt.hist(X_sum, bins=100)\n",
    "\n",
    "plt.title('Sample values distribution')\n",
    "plt.ylabel('Count')\n",
    "plt.xlabel('Value')\n",
    "\n",
    "plt.show()"
   ]
  },
  {
   "cell_type": "markdown",
   "metadata": {},
   "source": [
    "We have some negative, and zero values. The min value is -1. Let's make all sample values positive, by adding 2 to each sample."
   ]
  },
  {
   "cell_type": "code",
   "execution_count": 14,
   "metadata": {},
   "outputs": [],
   "source": [
    "X = [sample + 2 for sample in X]"
   ]
  },
  {
   "cell_type": "code",
   "execution_count": 15,
   "metadata": {},
   "outputs": [],
   "source": [
    "X_sum = torch.concat(X)"
   ]
  },
  {
   "cell_type": "code",
   "execution_count": 16,
   "metadata": {},
   "outputs": [
    {
     "data": {
      "text/plain": [
       "(tensor(1.), tensor(193.))"
      ]
     },
     "execution_count": 16,
     "metadata": {},
     "output_type": "execute_result"
    }
   ],
   "source": [
    "X_sum.min(), X_sum.max()"
   ]
  },
  {
   "cell_type": "code",
   "execution_count": 17,
   "metadata": {},
   "outputs": [
    {
     "data": {
      "image/png": "[encoded data removed]",
      "text/plain": [
       "<Figure size 640x480 with 1 Axes>"
      ]
     },
     "metadata": {},
     "output_type": "display_data"
    }
   ],
   "source": [
    "plt.hist(X_sum, bins=100)\n",
    "\n",
    "plt.title('Sample values distribution after correction')\n",
    "plt.ylabel('Count')\n",
    "plt.xlabel('Value')\n",
    "\n",
    "plt.show()"
   ]
  },
  {
   "cell_type": "markdown",
   "metadata": {},
   "source": [
    "### Sample length"
   ]
  },
  {
   "cell_type": "code",
   "execution_count": 18,
   "metadata": {},
   "outputs": [
    {
     "data": {
      "image/png": "[encoded data removed]",
      "text/plain": [
       "<Figure size 640x480 with 1 Axes>"
      ]
     },
     "metadata": {},
     "output_type": "display_data"
    }
   ],
   "source": [
    "plt.hist(list(map(lambda x: len(x), X)), bins=100)\n",
    "\n",
    "plt.title('Sample lengnth distribution')\n",
    "plt.ylabel('Length')\n",
    "\n",
    "plt.show()"
   ]
  },
  {
   "cell_type": "markdown",
   "metadata": {},
   "source": [
    "### Class distribution"
   ]
  },
  {
   "cell_type": "code",
   "execution_count": 19,
   "metadata": {},
   "outputs": [
    {
     "data": {
      "text/plain": [
       "Counter({0: 1630, 1: 478, 2: 154, 3: 441, 4: 236})"
      ]
     },
     "execution_count": 19,
     "metadata": {},
     "output_type": "execute_result"
    }
   ],
   "source": [
    "y_counts = Counter([target.item() for target in y])\n",
    "y_counts"
   ]
  },
  {
   "cell_type": "code",
   "execution_count": 20,
   "metadata": {},
   "outputs": [
    {
     "data": {
      "image/png": "[encoded data removed]",
      "text/plain": [
       "<Figure size 640x480 with 1 Axes>"
      ]
     },
     "metadata": {},
     "output_type": "display_data"
    }
   ],
   "source": [
    "plt.bar(y_counts.keys(), y_counts.values())\n",
    "\n",
    "plt.title('Class distribution')\n",
    "plt.xlabel('Class')\n",
    "plt.ylabel('Count')\n",
    "plt.xticks(range(num_classes), class_names.values())\n",
    "\n",
    "plt.show()"
   ]
  },
  {
   "cell_type": "markdown",
   "metadata": {},
   "source": [
    "The graph shows a class imbalance"
   ]
  },
  {
   "cell_type": "markdown",
   "metadata": {},
   "source": [
    "# Split data to train and validation sets"
   ]
  },
  {
   "cell_type": "code",
   "execution_count": 21,
   "metadata": {},
   "outputs": [],
   "source": [
    "X_train, X_val, y_train, y_val = train_test_split(X, y, test_size=VAL_SET_FRACTION, stratify=y)"
   ]
  },
  {
   "cell_type": "markdown",
   "metadata": {},
   "source": [
    "## Scaling"
   ]
  },
  {
   "cell_type": "code",
   "execution_count": 22,
   "metadata": {},
   "outputs": [],
   "source": [
    "X_train_all = []\n",
    "X_val_all = []\n",
    "\n",
    "for train_sample, val_sample in zip(X_train, X_val):\n",
    "    X_train_all.extend(train_sample.flatten().tolist())\n",
    "    X_val_all.extend(val_sample.flatten().tolist())"
   ]
  },
  {
   "cell_type": "code",
   "execution_count": 23,
   "metadata": {},
   "outputs": [],
   "source": [
    "X_mean = np.mean(X_train_all)\n",
    "X_std = np.std(X_train_all)"
   ]
  },
  {
   "cell_type": "code",
   "execution_count": 24,
   "metadata": {},
   "outputs": [],
   "source": [
    "def standardize(X, X_mean, X_std):\n",
    "    return ((X - X_mean) / X_std)  + 2.5"
   ]
  },
  {
   "cell_type": "code",
   "execution_count": 25,
   "metadata": {},
   "outputs": [],
   "source": [
    "X_train_transformed = standardize(X_train, X_mean, X_std)\n",
    "X_val_transformed = standardize(X_val, X_mean, X_std)\n"
   ]
  },
  {
   "cell_type": "code",
   "execution_count": 26,
   "metadata": {},
   "outputs": [],
   "source": [
    "X_train_trans_all = []\n",
    "X_val_trans_all = []\n",
    "\n",
    "for train_sample, val_sample in zip(X_train_transformed, X_val_transformed):\n",
    "    X_train_trans_all.extend(train_sample.flatten().tolist())\n",
    "    X_val_trans_all.extend(val_sample.flatten().tolist())"
   ]
  },
  {
   "cell_type": "markdown",
   "metadata": {},
   "source": [
    "### Datasets"
   ]
  },
  {
   "cell_type": "code",
   "execution_count": 27,
   "metadata": {},
   "outputs": [],
   "source": [
    "class VariableLenDataset(Dataset):\n",
    "    def __init__(self, data: torch.Tensor, targets: torch.Tensor):\n",
    "        self.data = data\n",
    "        self.targets = targets\n",
    "        assert len(self.data) == len(self.targets)\n",
    "\n",
    "    def __len__(self):\n",
    "        return len(self.data)\n",
    "\n",
    "    def __getitem__(self, idx):\n",
    "        return self.data[idx], self.targets[idx]"
   ]
  },
  {
   "cell_type": "code",
   "execution_count": 28,
   "metadata": {},
   "outputs": [],
   "source": [
    "X_train = pad_sequence(X_train, batch_first=True, padding_value=0)\n",
    "X_val = pad_sequence(X_val, batch_first=True, padding_value=0)"
   ]
  },
  {
   "cell_type": "code",
   "execution_count": 29,
   "metadata": {},
   "outputs": [],
   "source": [
    "train_dataset = VariableLenDataset(X_train, y_train)\n",
    "val_dataset = VariableLenDataset(X_val, y_val)"
   ]
  },
  {
   "cell_type": "code",
   "execution_count": 30,
   "metadata": {},
   "outputs": [
    {
     "name": "stdout",
     "output_type": "stream",
     "text": [
      "Train set size: 2645\n",
      "Val set size: 294\n"
     ]
    }
   ],
   "source": [
    "print(f'Train set size: {len(train_dataset)}')\n",
    "print(f'Val set size: {len(val_dataset)}')"
   ]
  },
  {
   "cell_type": "markdown",
   "metadata": {},
   "source": [
    "### DataLoaders"
   ]
  },
  {
   "cell_type": "code",
   "execution_count": 31,
   "metadata": {},
   "outputs": [],
   "source": [
    "def pad_collate(batch):\n",
    "    samples, targets = zip(*batch)\n",
    "    samples_lengths = np.array(list(map(len, samples)))\n",
    "    return pad_sequence(samples, batch_first=True, padding_value=0), samples_lengths, torch.Tensor(targets).type(torch.LongTensor).view(-1, 1)  # "
   ]
  },
  {
   "cell_type": "code",
   "execution_count": 32,
   "metadata": {},
   "outputs": [],
   "source": [
    "train_dataloader = DataLoader(train_dataset, batch_size=8, shuffle=True, drop_last=False, collate_fn=pad_collate)\n",
    "val_dataloader = DataLoader(val_dataset, batch_size=8, drop_last=False, collate_fn=pad_collate)"
   ]
  },
  {
   "cell_type": "markdown",
   "metadata": {},
   "source": [
    "# Model"
   ]
  },
  {
   "cell_type": "code",
   "execution_count": 33,
   "metadata": {},
   "outputs": [],
   "source": [
    "class RNNClassificationModelTemplate(nn.Module):\n",
    "    def __init__(self, num_classes, device, callbacks=None) -> None:\n",
    "        super().__init__()\n",
    "        self.num_classes = num_classes\n",
    "        self.device = device\n",
    "        self.callbacks = callbacks\n",
    "        self.train_report = {\n",
    "            'train_loss_history': [],\n",
    "            'val_loss_history': []\n",
    "        }\n",
    "        \n",
    "    def init_hidden(self, batch_size):\n",
    "        hidden = torch.zeros(size=(self.num_layers, batch_size, self.hidden_size), dtype=torch.float32)\n",
    "        state = torch.zeros(size=(self.num_layers, batch_size, self.hidden_size), dtype=torch.float32)\n",
    "        return hidden, state\n",
    "\n",
    "    def forward(self, X, X_lengths, hidden):\n",
    "        return X, hidden\n",
    "    \n",
    "    def predict(self, X, X_lengths, hidden):\n",
    "        self.eval()\n",
    "        y_pred = self.forward(X, X_lengths, hidden)\n",
    "        return torch.tensor([torch.argmax(pred) for pred in y_pred])\n",
    "    \n",
    "    def fit(self, train_dataloader, loss_func, optimizer, epochs, val_dataloader=None):\n",
    "        self.train()\n",
    "        for epoch in range(epochs):\n",
    "            print('================================')\n",
    "            print(f'Epoch {epoch}')\n",
    "            train_epoch_loss = self._train_one_epoch(train_dataloader, loss_func, optimizer)\n",
    "            avg_epoch_loss = train_epoch_loss / len(train_dataloader)\n",
    "            self._log_training_loss(avg_epoch_loss, epoch)\n",
    "            \n",
    "            if val_dataloader is not None:\n",
    "                val_loss = self.perform_validation(loss_func, val_dataloader)\n",
    "                avg_val_loss = val_loss / len(val_dataloader)\n",
    "                self._log_validation_loss(avg_val_loss)\n",
    "            \n",
    "            if self.callbacks is not None:\n",
    "                if self.callbacks.get['early_stopping'] is not None:\n",
    "                    self.callbacks['early_stopping'](avg_epoch_loss, avg_val_loss)\n",
    "                    if self.callbacks['early_stopping'].early_stop:\n",
    "                        print('Stopping early')\n",
    "                        break\n",
    "    \n",
    "    def _train_one_epoch(self, train_dataloader, loss_func, optimizer):\n",
    "        epoch_loss = 0.0\n",
    "        for batch_samples, batch_lengths, batch_labels in tqdm(train_dataloader):\n",
    "            X = batch_samples.unsqueeze(2).to(self.device)\n",
    "            y = batch_labels.to(self.device)\n",
    "            \n",
    "            hidden, state = self.init_hidden(X.size(0))  # new state for each sample\n",
    "            hidden, state = hidden.to(self.device), state.to(self.device)\n",
    "            y_pred = self.forward(X, (batch_lengths - 1), (hidden, state))     \n",
    "            \n",
    "            loss = loss_func(y_pred, y.squeeze())\n",
    "            self._optimize_params(loss, optimizer)\n",
    "            epoch_loss += loss.item()\n",
    "        return epoch_loss\n",
    "            \n",
    "    def _optimize_params(self, loss, optimizer):\n",
    "        optimizer.zero_grad()\n",
    "        loss.backward()\n",
    "        optimizer.step()\n",
    "    \n",
    "    def perform_validation(self, loss_func, val_dataloader):\n",
    "        val_loss = 0.0\n",
    "        with torch.no_grad():\n",
    "            for batch_samples, batch_lengths, batch_labels in val_dataloader:                \n",
    "                X = batch_samples.unsqueeze(2).to(self.device)\n",
    "                y = batch_labels.to(self.device)\n",
    "                \n",
    "                hidden, state = self.init_hidden(X.size(0))\n",
    "                hidden, state = hidden.to(self.device), state.to(self.device)\n",
    "                y_pred = self.forward(X, (batch_lengths - 1), (hidden, state))     \n",
    "                \n",
    "                loss = loss_func(y_pred, y.squeeze())\n",
    "                val_loss += loss.item()\n",
    "        return val_loss\n",
    "    \n",
    "    def _log_training_loss(self, epoch_loss, epoch):\n",
    "        self.train_report['train_loss_history'].append(epoch_loss)\n",
    "        print(f'Train Loss: {epoch_loss}')\n",
    "    \n",
    "    def _log_validation_loss(self, epoch_loss):\n",
    "        self.train_report['val_loss_history'].append(epoch_loss)\n",
    "        print(f'Val Loss: {epoch_loss}')\n",
    "    \n",
    "    def get_conf_matrix(self, dataloader):\n",
    "        confusion_matrix = torch.zeros(self.num_classes, self.num_classes)\n",
    "        with torch.no_grad():\n",
    "            for batch_samples, batch_lengths, batch_labels in dataloader:\n",
    "                X = batch_samples.unsqueeze(2).to(self.device)\n",
    "                y = batch_labels.to(self.device)\n",
    "                \n",
    "                hidden, state = self.init_hidden(X.size(0))\n",
    "                hidden, state = hidden.to(self.device), state.to(self.device)\n",
    "                y_pred = self.predict(X, (batch_lengths - 1), (hidden, state)) \n",
    "                \n",
    "                for t, p in zip(y.view(-1), y_pred.view(-1)):\n",
    "                        confusion_matrix[t.long(), p.long()] += 1\n",
    "        return confusion_matrix\n",
    "    \n",
    "    def class_accuracy(self, dataloader):\n",
    "        conf_matrix = self.get_conf_matrix(dataloader)\n",
    "        return conf_matrix.diag()/conf_matrix.sum(1)\n",
    "\n",
    "\n",
    "class LSTM_Classifier(RNNClassificationModelTemplate):\n",
    "    def __init__(self, input_size, hidden_size, num_layers, num_classes, device, dropout_frac=0.4, pad_value=0, callbacks=None):\n",
    "        super().__init__(num_classes, device, callbacks)\n",
    "        self.num_layers = num_layers\n",
    "        self.hidden_size = hidden_size\n",
    "        self.pad_value = pad_value\n",
    "        self.dropout_fac = dropout_frac\n",
    "        self.dropout = nn.Dropout(0.1)\n",
    "        self.lstm = nn.LSTM(input_size=input_size, hidden_size=hidden_size, num_layers=num_layers, dropout=self.dropout_fac)\n",
    "        self.fc = nn.Linear(hidden_size, 64)\n",
    "        self.output_layer = nn.Linear(64, num_classes)\n",
    "    \n",
    "    def forward(self, X, X_indicies, hidden):\n",
    "        X = torch.transpose(X, 0, 1)\n",
    "        out, _ = self.lstm(X, hidden)\n",
    "        out_t = torch.transpose(out, 0, 1)\n",
    "        cutout_X = out_t[np.arange(len(X_indicies)), X_indicies]\n",
    "        \n",
    "        X = self.fc(cutout_X)\n",
    "#         X = self.dropout(X)\n",
    "        X = self.output_layer(X)\n",
    "        return X"
   ]
  },
  {
   "cell_type": "markdown",
   "metadata": {},
   "source": [
    "# Training"
   ]
  },
  {
   "cell_type": "code",
   "execution_count": 34,
   "metadata": {},
   "outputs": [],
   "source": [
    "early_stopping = EarlyStopping(5, 0.3)\n",
    "\n",
    "# callbacks = {'early_stopping': early_stopping}\n",
    "callbacks = None"
   ]
  },
  {
   "cell_type": "code",
   "execution_count": 35,
   "metadata": {},
   "outputs": [
    {
     "data": {
      "text/plain": [
       "LSTM_Classifier(\n",
       "  (dropout): Dropout(p=0.1, inplace=False)\n",
       "  (lstm): LSTM(1, 80, num_layers=2, dropout=0.5)\n",
       "  (fc): Linear(in_features=80, out_features=64, bias=True)\n",
       "  (output_layer): Linear(in_features=64, out_features=5, bias=True)\n",
       ")"
      ]
     },
     "execution_count": 35,
     "metadata": {},
     "output_type": "execute_result"
    }
   ],
   "source": [
    "model = LSTM_Classifier(input_size=1,\n",
    "                        hidden_size=80, \n",
    "                        num_layers=2, \n",
    "                        num_classes=num_classes, \n",
    "                        device=device,\n",
    "                        dropout_frac=0.5\n",
    "                        ).to(device)\n",
    "\n",
    "model"
   ]
  },
  {
   "cell_type": "code",
   "execution_count": null,
   "metadata": {},
   "outputs": [],
   "source": [
    "class_weights = compute_class_weight(class_weight='balanced', classes=y_train.unique().numpy(), y=y_train.flatten().numpy())\n",
    "class_weights = class_weights + np.array([0, 0, 0.5, 1, 0])\n",
    "class_weights = torch.tensor(class_weights, dtype=torch.float).to(device)\n",
    "class_weights"
   ]
  },
  {
   "cell_type": "code",
   "execution_count": 169,
   "metadata": {},
   "outputs": [],
   "source": [
    "loss_func = nn.CrossEntropyLoss(weight=class_weights)\n",
    "optimizer = torch.optim.Adam(model.parameters(), lr=0.01)  # , weight_decay=0.0001"
   ]
  },
  {
   "cell_type": "markdown",
   "metadata": {},
   "source": [
    "# Training"
   ]
  },
  {
   "cell_type": "code",
   "execution_count": 170,
   "metadata": {},
   "outputs": [
    {
     "name": "stdout",
     "output_type": "stream",
     "text": [
      "================================\n",
      "Epoch 0\n"
     ]
    },
    {
     "name": "stderr",
     "output_type": "stream",
     "text": [
      "100%|██████████| 331/331 [00:06<00:00, 55.15it/s]\n"
     ]
    },
    {
     "name": "stdout",
     "output_type": "stream",
     "text": [
      "Train Loss: 1.5828508668075516\n",
      "Val Loss: 1.568842981312726\n",
      "================================\n",
      "Epoch 1\n"
     ]
    },
    {
     "name": "stderr",
     "output_type": "stream",
     "text": [
      "100%|██████████| 331/331 [00:05<00:00, 56.31it/s]\n"
     ]
    },
    {
     "name": "stdout",
     "output_type": "stream",
     "text": [
      "Train Loss: 1.5580992043198416\n",
      "Val Loss: 1.497835697354497\n",
      "================================\n",
      "Epoch 2\n"
     ]
    },
    {
     "name": "stderr",
     "output_type": "stream",
     "text": [
      "100%|██████████| 331/331 [00:06<00:00, 55.02it/s]\n"
     ]
    },
    {
     "name": "stdout",
     "output_type": "stream",
     "text": [
      "Train Loss: 1.543542386902063\n",
      "Val Loss: 1.430348795813483\n",
      "================================\n",
      "Epoch 3\n"
     ]
    },
    {
     "name": "stderr",
     "output_type": "stream",
     "text": [
      "100%|██████████| 331/331 [00:05<00:00, 56.38it/s]\n"
     ]
    },
    {
     "name": "stdout",
     "output_type": "stream",
     "text": [
      "Train Loss: 1.465436648926346\n",
      "Val Loss: 1.3919837088198275\n",
      "================================\n",
      "Epoch 4\n"
     ]
    },
    {
     "name": "stderr",
     "output_type": "stream",
     "text": [
      "100%|██████████| 331/331 [00:05<00:00, 55.67it/s]\n"
     ]
    },
    {
     "name": "stdout",
     "output_type": "stream",
     "text": [
      "Train Loss: 1.3887829859811374\n",
      "Val Loss: 1.379699566879788\n",
      "================================\n",
      "Epoch 5\n"
     ]
    },
    {
     "name": "stderr",
     "output_type": "stream",
     "text": [
      "100%|██████████| 331/331 [00:05<00:00, 56.50it/s]\n"
     ]
    },
    {
     "name": "stdout",
     "output_type": "stream",
     "text": [
      "Train Loss: 1.3689201110439357\n",
      "Val Loss: 1.2961557185327686\n",
      "================================\n",
      "Epoch 6\n"
     ]
    },
    {
     "name": "stderr",
     "output_type": "stream",
     "text": [
      "100%|██████████| 331/331 [00:05<00:00, 56.03it/s]\n"
     ]
    },
    {
     "name": "stdout",
     "output_type": "stream",
     "text": [
      "Train Loss: 1.3343043012201246\n",
      "Val Loss: 1.2559363890338588\n",
      "================================\n",
      "Epoch 7\n"
     ]
    },
    {
     "name": "stderr",
     "output_type": "stream",
     "text": [
      "100%|██████████| 331/331 [00:05<00:00, 55.70it/s]\n"
     ]
    },
    {
     "name": "stdout",
     "output_type": "stream",
     "text": [
      "Train Loss: 1.2938511702949547\n",
      "Val Loss: 1.2366841209901345\n",
      "================================\n",
      "Epoch 8\n"
     ]
    },
    {
     "name": "stderr",
     "output_type": "stream",
     "text": [
      "100%|██████████| 331/331 [00:05<00:00, 56.73it/s]\n"
     ]
    },
    {
     "name": "stdout",
     "output_type": "stream",
     "text": [
      "Train Loss: 1.272792791491909\n",
      "Val Loss: 1.2575989639436878\n",
      "================================\n",
      "Epoch 9\n"
     ]
    },
    {
     "name": "stderr",
     "output_type": "stream",
     "text": [
      "100%|██████████| 331/331 [00:05<00:00, 56.81it/s]\n"
     ]
    },
    {
     "name": "stdout",
     "output_type": "stream",
     "text": [
      "Train Loss: 1.2261778915756778\n",
      "Val Loss: 1.18535148936349\n",
      "================================\n",
      "Epoch 10\n"
     ]
    },
    {
     "name": "stderr",
     "output_type": "stream",
     "text": [
      "100%|██████████| 331/331 [00:05<00:00, 55.82it/s]\n"
     ]
    },
    {
     "name": "stdout",
     "output_type": "stream",
     "text": [
      "Train Loss: 1.2341772678935636\n",
      "Val Loss: 1.1636910261334599\n",
      "================================\n",
      "Epoch 11\n"
     ]
    },
    {
     "name": "stderr",
     "output_type": "stream",
     "text": [
      "100%|██████████| 331/331 [00:05<00:00, 55.88it/s]\n"
     ]
    },
    {
     "name": "stdout",
     "output_type": "stream",
     "text": [
      "Train Loss: 1.1993934285244552\n",
      "Val Loss: 1.145870100002031\n",
      "================================\n",
      "Epoch 12\n"
     ]
    },
    {
     "name": "stderr",
     "output_type": "stream",
     "text": [
      "100%|██████████| 331/331 [00:05<00:00, 56.35it/s]\n"
     ]
    },
    {
     "name": "stdout",
     "output_type": "stream",
     "text": [
      "Train Loss: 1.1505950415602624\n",
      "Val Loss: 1.1161897512706551\n",
      "================================\n",
      "Epoch 13\n"
     ]
    },
    {
     "name": "stderr",
     "output_type": "stream",
     "text": [
      "100%|██████████| 331/331 [00:05<00:00, 56.25it/s]\n"
     ]
    },
    {
     "name": "stdout",
     "output_type": "stream",
     "text": [
      "Train Loss: 1.1091711008836855\n",
      "Val Loss: 1.1194773759390857\n",
      "================================\n",
      "Epoch 14\n"
     ]
    },
    {
     "name": "stderr",
     "output_type": "stream",
     "text": [
      "100%|██████████| 331/331 [00:05<00:00, 56.49it/s]\n"
     ]
    },
    {
     "name": "stdout",
     "output_type": "stream",
     "text": [
      "Train Loss: 1.0883906593495625\n",
      "Val Loss: 1.1113625426550169\n",
      "================================\n",
      "Epoch 15\n"
     ]
    },
    {
     "name": "stderr",
     "output_type": "stream",
     "text": [
      "100%|██████████| 331/331 [00:05<00:00, 56.79it/s]\n"
     ]
    },
    {
     "name": "stdout",
     "output_type": "stream",
     "text": [
      "Train Loss: 1.0483087346272886\n",
      "Val Loss: 1.0502495757631354\n",
      "================================\n",
      "Epoch 16\n"
     ]
    },
    {
     "name": "stderr",
     "output_type": "stream",
     "text": [
      "100%|██████████| 331/331 [00:05<00:00, 56.06it/s]\n"
     ]
    },
    {
     "name": "stdout",
     "output_type": "stream",
     "text": [
      "Train Loss: 1.0566969880344645\n",
      "Val Loss: 1.113994864998637\n",
      "================================\n",
      "Epoch 17\n"
     ]
    },
    {
     "name": "stderr",
     "output_type": "stream",
     "text": [
      "100%|██████████| 331/331 [00:05<00:00, 56.29it/s]\n"
     ]
    },
    {
     "name": "stdout",
     "output_type": "stream",
     "text": [
      "Train Loss: 1.0457605393631582\n",
      "Val Loss: 1.0804631114006042\n",
      "================================\n",
      "Epoch 18\n"
     ]
    },
    {
     "name": "stderr",
     "output_type": "stream",
     "text": [
      "100%|██████████| 331/331 [00:05<00:00, 56.73it/s]\n"
     ]
    },
    {
     "name": "stdout",
     "output_type": "stream",
     "text": [
      "Train Loss: 1.018859085854807\n",
      "Val Loss: 1.0663225602459263\n",
      "================================\n",
      "Epoch 19\n"
     ]
    },
    {
     "name": "stderr",
     "output_type": "stream",
     "text": [
      "100%|██████████| 331/331 [00:05<00:00, 55.53it/s]\n"
     ]
    },
    {
     "name": "stdout",
     "output_type": "stream",
     "text": [
      "Train Loss: 0.9986994148111056\n",
      "Val Loss: 1.0471884914346643\n",
      "================================\n",
      "Epoch 20\n"
     ]
    },
    {
     "name": "stderr",
     "output_type": "stream",
     "text": [
      "100%|██████████| 331/331 [00:05<00:00, 55.36it/s]\n"
     ]
    },
    {
     "name": "stdout",
     "output_type": "stream",
     "text": [
      "Train Loss: 0.9905025004620278\n",
      "Val Loss: 1.0165605230911359\n",
      "================================\n",
      "Epoch 21\n"
     ]
    },
    {
     "name": "stderr",
     "output_type": "stream",
     "text": [
      "100%|██████████| 331/331 [00:05<00:00, 55.64it/s]\n"
     ]
    },
    {
     "name": "stdout",
     "output_type": "stream",
     "text": [
      "Train Loss: 0.9578204924786559\n",
      "Val Loss: 0.9717350207470559\n",
      "================================\n",
      "Epoch 22\n"
     ]
    },
    {
     "name": "stderr",
     "output_type": "stream",
     "text": [
      "100%|██████████| 331/331 [00:05<00:00, 56.81it/s]\n"
     ]
    },
    {
     "name": "stdout",
     "output_type": "stream",
     "text": [
      "Train Loss: 0.9570664707627541\n",
      "Val Loss: 1.0003337634576333\n",
      "================================\n",
      "Epoch 23\n"
     ]
    },
    {
     "name": "stderr",
     "output_type": "stream",
     "text": [
      "100%|██████████| 331/331 [00:05<00:00, 57.15it/s]\n"
     ]
    },
    {
     "name": "stdout",
     "output_type": "stream",
     "text": [
      "Train Loss: 0.9675770973240861\n",
      "Val Loss: 0.9415221294841251\n",
      "================================\n",
      "Epoch 24\n"
     ]
    },
    {
     "name": "stderr",
     "output_type": "stream",
     "text": [
      "100%|██████████| 331/331 [00:05<00:00, 56.53it/s]\n"
     ]
    },
    {
     "name": "stdout",
     "output_type": "stream",
     "text": [
      "Train Loss: 0.9210046741807569\n",
      "Val Loss: 0.8964129847449225\n",
      "================================\n",
      "Epoch 25\n"
     ]
    },
    {
     "name": "stderr",
     "output_type": "stream",
     "text": [
      "100%|██████████| 331/331 [00:05<00:00, 56.47it/s]\n"
     ]
    },
    {
     "name": "stdout",
     "output_type": "stream",
     "text": [
      "Train Loss: 0.9071162544258412\n",
      "Val Loss: 0.9588789625747783\n",
      "================================\n",
      "Epoch 26\n"
     ]
    },
    {
     "name": "stderr",
     "output_type": "stream",
     "text": [
      "100%|██████████| 331/331 [00:05<00:00, 56.62it/s]\n"
     ]
    },
    {
     "name": "stdout",
     "output_type": "stream",
     "text": [
      "Train Loss: 0.9061034806635445\n",
      "Val Loss: 0.927440774601859\n",
      "================================\n",
      "Epoch 27\n"
     ]
    },
    {
     "name": "stderr",
     "output_type": "stream",
     "text": [
      "100%|██████████| 331/331 [00:05<00:00, 55.38it/s]\n"
     ]
    },
    {
     "name": "stdout",
     "output_type": "stream",
     "text": [
      "Train Loss: 0.8831897505820698\n",
      "Val Loss: 0.9360125499802667\n",
      "================================\n",
      "Epoch 28\n"
     ]
    },
    {
     "name": "stderr",
     "output_type": "stream",
     "text": [
      "100%|██████████| 331/331 [00:05<00:00, 55.71it/s]\n"
     ]
    },
    {
     "name": "stdout",
     "output_type": "stream",
     "text": [
      "Train Loss: 0.8905132827531895\n",
      "Val Loss: 0.9642080725044817\n",
      "================================\n",
      "Epoch 29\n"
     ]
    },
    {
     "name": "stderr",
     "output_type": "stream",
     "text": [
      "100%|██████████| 331/331 [00:05<00:00, 55.41it/s]\n"
     ]
    },
    {
     "name": "stdout",
     "output_type": "stream",
     "text": [
      "Train Loss: 0.9194793544957285\n",
      "Val Loss: 0.9799935519695282\n"
     ]
    }
   ],
   "source": [
    "model.fit(train_dataloader, loss_func, optimizer, epochs=30, val_dataloader=val_dataloader)"
   ]
  },
  {
   "cell_type": "code",
   "execution_count": 171,
   "metadata": {},
   "outputs": [
    {
     "data": {
      "image/png": "[encoded data removed]",
      "text/plain": [
       "<Figure size 640x480 with 1 Axes>"
      ]
     },
     "metadata": {},
     "output_type": "display_data"
    }
   ],
   "source": [
    "plt.plot(model.train_report['train_loss_history'], label='Train')\n",
    "plt.plot(model.train_report['val_loss_history'], label='Validation')\n",
    "plt.legend()\n",
    "plt.savefig('train.png')\n",
    "\n",
    "plt.show()\n"
   ]
  },
  {
   "cell_type": "markdown",
   "metadata": {},
   "source": [
    "# Validation"
   ]
  },
  {
   "cell_type": "markdown",
   "metadata": {},
   "source": [
    "### Accuracy per class"
   ]
  },
  {
   "cell_type": "code",
   "execution_count": 172,
   "metadata": {},
   "outputs": [],
   "source": [
    "train_acc_per_class = model.class_accuracy(train_dataloader)\n",
    "val_acc_per_class = model.class_accuracy(val_dataloader)\n"
   ]
  },
  {
   "cell_type": "code",
   "execution_count": 173,
   "metadata": {},
   "outputs": [
    {
     "name": "stdout",
     "output_type": "stream",
     "text": [
      "Train class acc: tensor([0.3783, 0.5372, 0.4676, 0.8463, 0.8774])\n",
      "Val class acc: tensor([0.3067, 0.5833, 0.3333, 0.7727, 0.7917])\n"
     ]
    }
   ],
   "source": [
    "print(f'Train class acc: {train_acc_per_class}')\n",
    "print(f'Val class acc: {val_acc_per_class}')"
   ]
  },
  {
   "cell_type": "code",
   "execution_count": 174,
   "metadata": {},
   "outputs": [
    {
     "name": "stdout",
     "output_type": "stream",
     "text": [
      "Train acc: 0.6213728785514832\n",
      "Val acc: 0.5575617551803589\n"
     ]
    }
   ],
   "source": [
    "print(f'Train acc: {torch.mean(train_acc_per_class)}')\n",
    "print(f'Val acc: {torch.mean(val_acc_per_class)}')"
   ]
  },
  {
   "cell_type": "markdown",
   "metadata": {},
   "source": [
    "## Model saving"
   ]
  },
  {
   "cell_type": "code",
   "execution_count": 121,
   "metadata": {},
   "outputs": [],
   "source": [
    "torch.save(model.state_dict(), 'model_val66_train84.pt')"
   ]
  },
  {
   "cell_type": "markdown",
   "metadata": {},
   "source": [
    "### Loading model"
   ]
  },
  {
   "cell_type": "code",
   "execution_count": 178,
   "metadata": {},
   "outputs": [
    {
     "data": {
      "text/plain": [
       "LSTM_Classifier(\n",
       "  (dropout): Dropout(p=0.1, inplace=False)\n",
       "  (lstm): LSTM(1, 80, num_layers=2, dropout=0.5)\n",
       "  (fc): Linear(in_features=80, out_features=64, bias=True)\n",
       "  (output_layer): Linear(in_features=64, out_features=5, bias=True)\n",
       ")"
      ]
     },
     "execution_count": 178,
     "metadata": {},
     "output_type": "execute_result"
    }
   ],
   "source": [
    "model = LSTM_Classifier(input_size=1,\n",
    "                        hidden_size=80, \n",
    "                        num_layers=2, \n",
    "                        num_classes=num_classes, \n",
    "                        device=device,\n",
    "                        dropout_frac=0.5\n",
    "                        ).to(device)\n",
    "\n",
    "model.load_state_dict(torch.load('model_val66_train84.pt'))\n",
    "model"
   ]
  },
  {
   "cell_type": "markdown",
   "metadata": {},
   "source": [
    "# Testing"
   ]
  },
  {
   "cell_type": "code",
   "execution_count": 183,
   "metadata": {},
   "outputs": [],
   "source": [
    "class TestVariableLenDataset(Dataset):\n",
    "    def __init__(self, data: torch.Tensor):\n",
    "        self.data = data\n",
    "\n",
    "    def __len__(self):\n",
    "        return len(self.data)\n",
    "\n",
    "    def __getitem__(self, idx):\n",
    "        return self.data[idx]"
   ]
  },
  {
   "cell_type": "code",
   "execution_count": 184,
   "metadata": {},
   "outputs": [],
   "source": [
    "def pad_collate_test(batch):\n",
    "    samples = batch\n",
    "    samples_lengths = np.array(list(map(len, samples)))\n",
    "    return pad_sequence(samples, batch_first=True, padding_value=0), samples_lengths"
   ]
  },
  {
   "cell_type": "code",
   "execution_count": 185,
   "metadata": {},
   "outputs": [],
   "source": [
    "def predict_for_test_dataset(test_dataset, test_dataloader, model):\n",
    "    with torch.no_grad():\n",
    "        predictions = []\n",
    "        for batch_samples, X_lengths in test_dataloader:\n",
    "            X = batch_samples.unsqueeze(2).to(model.device)\n",
    "                \n",
    "            hidden, state = model.init_hidden(X.size(0))\n",
    "            hidden, state = hidden.to(model.device), state.to(model.device)\n",
    "            y_pred = model.predict(X, (X_lengths - 1), (hidden, state)) \n",
    "            predictions.append(y_pred)\n",
    "        predictions_flat = [prediction.item() for sublist in predictions for prediction in sublist]\n",
    "    return predictions_flat"
   ]
  },
  {
   "cell_type": "code",
   "execution_count": 7,
   "metadata": {},
   "outputs": [],
   "source": [
    "with open(test_data_opath, 'rb') as pickle_file:\n",
    "    test_data = np.array(pickle.load(pickle_file), dtype=object)\n",
    "    \n",
    "X_test = []\n",
    "\n",
    "for sample in samples: # powinno być 'in test_data'\n",
    "    X_test.append(torch.from_numpy(sample).type(torch.float32))"
   ]
  },
  {
   "cell_type": "code",
   "execution_count": 187,
   "metadata": {},
   "outputs": [],
   "source": [
    "test_dataset = TestVariableLenDataset(X_test)\n",
    "test_dataloader = DataLoader(test_dataset , batch_size=8, shuffle=False, drop_last=False, collate_fn=pad_collate_test)"
   ]
  },
  {
   "cell_type": "code",
   "execution_count": 188,
   "metadata": {},
   "outputs": [],
   "source": [
    "predictions = predict_for_test_dataset(test_dataset, test_dataloader, model)"
   ]
  }
 ],
 "metadata": {
  "kernelspec": {
   "display_name": "Python 3 (ipykernel)",
   "language": "python",
   "name": "python3"
  },
  "language_info": {
   "codemirror_mode": {
    "name": "ipython",
    "version": 3
   },
   "file_extension": ".py",
   "mimetype": "text/x-python",
   "name": "python",
   "nbconvert_exporter": "python",
   "pygments_lexer": "ipython3",
   "version": "3.8.13 | packaged by conda-forge | (default, Mar 25 2022, 06:05:16) \n[Clang 12.0.1 ]"
  },
  "vscode": {
   "interpreter": {
    "hash": "bd6aaa34b2eaa27615c35a49f49fcac2b9fb6ef67dd9795ab23618a0054bdc5d"
   }
  }
 },
 "nbformat": 4,
 "nbformat_minor": 4
}
