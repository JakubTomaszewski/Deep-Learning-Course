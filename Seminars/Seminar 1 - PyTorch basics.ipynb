{
 "cells": [
  {
   "cell_type": "code",
   "execution_count": 1,
   "metadata": {
    "ExecuteTime": {
     "end_time": "2021-10-03T20:25:50.022139Z",
     "start_time": "2021-10-03T20:25:49.672871Z"
    }
   },
   "outputs": [],
   "source": [
    "import torch\n",
    "import numpy as np"
   ]
  },
  {
   "cell_type": "markdown",
   "metadata": {},
   "source": [
    "Tensory w PyTorchu to specjalne struktury danych, które przypominają tablice/macierze. Używamy ich do przechowywania wejśc/wyjść z sieci, jak również wag modelu.\n",
    "Tensory przypominają swoją budową tablice numpy https://numpy.org/, z zasadniczą różnicą, ktorą jest łatwa możliwość przechowywania i operowania na tensorach na kartach graficznych."
   ]
  },
  {
   "cell_type": "markdown",
   "metadata": {},
   "source": [
    "Tensory mogą być tworzone w różny sposób:\n",
    "1. Ze standardowych tablic"
   ]
  },
  {
   "cell_type": "code",
   "execution_count": 2,
   "metadata": {
    "ExecuteTime": {
     "end_time": "2021-10-03T20:25:51.726558Z",
     "start_time": "2021-10-03T20:25:51.709518Z"
    }
   },
   "outputs": [
    {
     "data": {
      "text/plain": [
       "tensor([[1, 2],\n",
       "        [3, 4]])"
      ]
     },
     "execution_count": 2,
     "metadata": {},
     "output_type": "execute_result"
    }
   ],
   "source": [
    "data = [[1, 2],[3, 4]]\n",
    "x_data = torch.tensor(data)\n",
    "x_data"
   ]
  },
  {
   "cell_type": "markdown",
   "metadata": {
    "ExecuteTime": {
     "end_time": "2021-10-02T07:40:32.096100Z",
     "start_time": "2021-10-02T07:40:32.090797Z"
    }
   },
   "source": [
    "2. Na podstawie tablic numpy"
   ]
  },
  {
   "cell_type": "code",
   "execution_count": 3,
   "metadata": {
    "ExecuteTime": {
     "end_time": "2021-10-03T20:25:53.393023Z",
     "start_time": "2021-10-03T20:25:53.386523Z"
    }
   },
   "outputs": [
    {
     "data": {
      "text/plain": [
       "tensor([[1, 2],\n",
       "        [3, 4]])"
      ]
     },
     "execution_count": 3,
     "metadata": {},
     "output_type": "execute_result"
    }
   ],
   "source": [
    "np_array = np.array(data)\n",
    "x_np = torch.from_numpy(np_array)\n",
    "x_np"
   ]
  },
  {
   "cell_type": "markdown",
   "metadata": {},
   "source": [
    "3. Na podstawie innych tensorów"
   ]
  },
  {
   "cell_type": "code",
   "execution_count": 4,
   "metadata": {
    "ExecuteTime": {
     "end_time": "2021-10-03T20:25:54.913586Z",
     "start_time": "2021-10-03T20:25:54.905340Z"
    },
    "scrolled": true
   },
   "outputs": [
    {
     "name": "stdout",
     "output_type": "stream",
     "text": [
      "Ones Tensor: \n",
      " tensor([[1, 1],\n",
      "        [1, 1]]) \n",
      "\n",
      "Random Tensor: \n",
      " tensor([[0.4070, 0.8224],\n",
      "        [0.2808, 0.2243]]) \n",
      "\n"
     ]
    }
   ],
   "source": [
    "x_ones = torch.ones_like(x_data) # retains the properties of x_data\n",
    "print(f\"Ones Tensor: \\n {x_ones} \\n\")\n",
    "\n",
    "x_rand = torch.rand_like(x_data, dtype=torch.float) # overrides the datatype of x_data\n",
    "print(f\"Random Tensor: \\n {x_rand} \\n\")"
   ]
  },
  {
   "cell_type": "markdown",
   "metadata": {},
   "source": [
    "4. Z losowymi lub stałymi wartościami"
   ]
  },
  {
   "cell_type": "code",
   "execution_count": 5,
   "metadata": {
    "ExecuteTime": {
     "end_time": "2021-10-03T20:25:57.144127Z",
     "start_time": "2021-10-03T20:25:57.134323Z"
    }
   },
   "outputs": [
    {
     "name": "stdout",
     "output_type": "stream",
     "text": [
      "Random Tensor: \n",
      " tensor([[0.6845, 0.6889, 0.7979],\n",
      "        [0.7639, 0.7036, 0.8765]]) \n",
      "\n",
      "Ones Tensor: \n",
      " tensor([[1., 1., 1.],\n",
      "        [1., 1., 1.]]) \n",
      "\n",
      "Zeros Tensor: \n",
      " tensor([[0., 0., 0.],\n",
      "        [0., 0., 0.]]) \n",
      "\n"
     ]
    }
   ],
   "source": [
    "shape = (2,3,)\n",
    "rand_tensor = torch.rand(shape)\n",
    "print(f\"Random Tensor: \\n {rand_tensor} \\n\")\n",
    "ones_tensor = torch.ones(shape)\n",
    "print(f\"Ones Tensor: \\n {ones_tensor} \\n\")\n",
    "zeros_tensor = torch.zeros(shape)\n",
    "print(f\"Zeros Tensor: \\n {zeros_tensor} \\n\")"
   ]
  },
  {
   "cell_type": "markdown",
   "metadata": {},
   "source": [
    "### Atrybuty tensorów"
   ]
  },
  {
   "cell_type": "code",
   "execution_count": 6,
   "metadata": {
    "ExecuteTime": {
     "end_time": "2021-10-03T20:26:00.125854Z",
     "start_time": "2021-10-03T20:26:00.119975Z"
    }
   },
   "outputs": [
    {
     "name": "stdout",
     "output_type": "stream",
     "text": [
      "Shape of tensor: torch.Size([3, 4])\n",
      "Datatype of tensor: torch.float32\n",
      "Device tensor is stored on: cpu\n"
     ]
    }
   ],
   "source": [
    "tensor = torch.rand(3,4)\n",
    "\n",
    "print(f\"Shape of tensor: {tensor.shape}\")\n",
    "print(f\"Datatype of tensor: {tensor.dtype}\")\n",
    "print(f\"Device tensor is stored on: {tensor.device}\")"
   ]
  },
  {
   "cell_type": "markdown",
   "metadata": {},
   "source": [
    "### Operacje na tensorach"
   ]
  },
  {
   "cell_type": "markdown",
   "metadata": {},
   "source": [
    "Nie ma co się bać dokumentacji! (Jest bardzo przyjemnie napisana) Wszystkie operacje na tensorach są opisane tutaj: https://pytorch.org/docs/stable/torch.html\n",
    "Standardowo operacje są uruchamiane na CPU, ale można przenosić tensory, całe modele i **wszystkie operacje** na GPU (co zazwyczaj jest szybsze) za pomocą prostej komendy. Przetestujemy to w kolejnych częściach laboratorium."
   ]
  },
  {
   "cell_type": "markdown",
   "metadata": {},
   "source": [
    "#### Standardowe indeksowanie i slicing"
   ]
  },
  {
   "cell_type": "code",
   "execution_count": 7,
   "metadata": {
    "ExecuteTime": {
     "end_time": "2021-10-03T20:26:06.315498Z",
     "start_time": "2021-10-03T20:26:06.304261Z"
    }
   },
   "outputs": [
    {
     "name": "stdout",
     "output_type": "stream",
     "text": [
      "First row:  tensor([1., 1., 1., 1.])\n",
      "First column:  tensor([1., 1., 1., 1.])\n",
      "Last column: tensor([1., 1., 1., 1.])\n",
      "tensor([[1., 0., 1., 1.],\n",
      "        [1., 0., 1., 1.],\n",
      "        [1., 0., 1., 1.],\n",
      "        [1., 0., 1., 1.]])\n"
     ]
    }
   ],
   "source": [
    "tensor = torch.ones(4, 4)\n",
    "print('First row: ', tensor[0])\n",
    "print('First column: ', tensor[:, 0])\n",
    "print('Last column:', tensor[:, -1])\n",
    "tensor[:,1] = 0\n",
    "print(tensor)"
   ]
  },
  {
   "cell_type": "markdown",
   "metadata": {},
   "source": [
    "#### Transponowanie tensorów"
   ]
  },
  {
   "cell_type": "code",
   "execution_count": 8,
   "metadata": {
    "ExecuteTime": {
     "end_time": "2021-10-03T20:26:08.482140Z",
     "start_time": "2021-10-03T20:26:08.472552Z"
    }
   },
   "outputs": [
    {
     "name": "stdout",
     "output_type": "stream",
     "text": [
      "tensor([[1., 0., 2.],\n",
      "        [1., 0., 2.],\n",
      "        [1., 0., 2.],\n",
      "        [1., 0., 2.]])\n",
      "Tensor shape:torch.Size([4, 3])\n",
      "\n",
      "tensor([[1., 1., 1., 1.],\n",
      "        [0., 0., 0., 0.],\n",
      "        [2., 2., 2., 2.]])\n",
      "Transposed tensor shape:torch.Size([3, 4])\n"
     ]
    }
   ],
   "source": [
    "tensor = torch.ones(4, 3)\n",
    "tensor[:,1] = 0\n",
    "tensor[:,2] = 2\n",
    "print(tensor)\n",
    "print(f\"Tensor shape:{tensor.shape}\\n\")\n",
    "tensor2 = tensor.T\n",
    "print(tensor2)\n",
    "print(f\"Transposed tensor shape:{tensor2.shape}\")"
   ]
  },
  {
   "cell_type": "markdown",
   "metadata": {},
   "source": [
    "#### Zmiana wymiarów"
   ]
  },
  {
   "cell_type": "code",
   "execution_count": 9,
   "metadata": {
    "ExecuteTime": {
     "end_time": "2021-10-03T20:26:12.724355Z",
     "start_time": "2021-10-03T20:26:12.710322Z"
    }
   },
   "outputs": [
    {
     "name": "stdout",
     "output_type": "stream",
     "text": [
      "tensor([1., 1., 1., 1., 1., 1., 1., 1., 1., 1.])\n",
      "Tensor shape:torch.Size([10])\n",
      "\n",
      "tensor([[1., 1., 1., 1., 1., 1., 1., 1., 1., 1.]])\n",
      "Tensor shape:torch.Size([1, 10])\n",
      "\n",
      "tensor([[1.],\n",
      "        [1.],\n",
      "        [1.],\n",
      "        [1.],\n",
      "        [1.],\n",
      "        [1.],\n",
      "        [1.],\n",
      "        [1.],\n",
      "        [1.],\n",
      "        [1.]])\n",
      "Tensor shape:torch.Size([10, 1])\n",
      "\n",
      "tensor([[1., 1.],\n",
      "        [1., 1.],\n",
      "        [1., 1.],\n",
      "        [1., 1.],\n",
      "        [1., 1.]])\n",
      "Tensor shape:torch.Size([5, 2])\n",
      "\n"
     ]
    }
   ],
   "source": [
    "tensor = torch.ones([10])\n",
    "print(tensor)\n",
    "print(f\"Tensor shape:{tensor.shape}\\n\")\n",
    "\n",
    "tensor2 = tensor.unsqueeze(dim=0)\n",
    "print(tensor2)\n",
    "print(f\"Tensor shape:{tensor2.shape}\\n\")\n",
    "\n",
    "tensor3 = tensor.unsqueeze(dim=1)\n",
    "print(tensor3)\n",
    "print(f\"Tensor shape:{tensor3.shape}\\n\")\n",
    "\n",
    "tensor4 = tensor.view(5,2)\n",
    "print(tensor4)\n",
    "print(f\"Tensor shape:{tensor4.shape}\\n\")"
   ]
  },
  {
   "cell_type": "markdown",
   "metadata": {},
   "source": [
    "#### Łączenie tensorów"
   ]
  },
  {
   "cell_type": "code",
   "execution_count": 10,
   "metadata": {
    "ExecuteTime": {
     "end_time": "2021-10-03T20:26:16.455787Z",
     "start_time": "2021-10-03T20:26:16.447716Z"
    }
   },
   "outputs": [
    {
     "name": "stdout",
     "output_type": "stream",
     "text": [
      "tensor([[1., 0., 1., 1., 1., 0., 1., 1., 1., 0., 1., 1.],\n",
      "        [1., 0., 1., 1., 1., 0., 1., 1., 1., 0., 1., 1.],\n",
      "        [1., 0., 1., 1., 1., 0., 1., 1., 1., 0., 1., 1.],\n",
      "        [1., 0., 1., 1., 1., 0., 1., 1., 1., 0., 1., 1.]])\n"
     ]
    }
   ],
   "source": [
    "tensor = torch.ones(4, 4)\n",
    "tensor[:,1] = 0\n",
    "t1 = torch.cat([tensor, tensor, tensor], dim=1)\n",
    "print(t1)"
   ]
  },
  {
   "cell_type": "code",
   "execution_count": 11,
   "metadata": {
    "ExecuteTime": {
     "end_time": "2021-10-03T20:26:22.355255Z",
     "start_time": "2021-10-03T20:26:22.348117Z"
    }
   },
   "outputs": [
    {
     "name": "stdout",
     "output_type": "stream",
     "text": [
      "tensor([[1., 0., 1., 1.],\n",
      "        [1., 0., 1., 1.],\n",
      "        [1., 0., 1., 1.],\n",
      "        [1., 0., 1., 1.],\n",
      "        [1., 0., 1., 1.],\n",
      "        [1., 0., 1., 1.],\n",
      "        [1., 0., 1., 1.],\n",
      "        [1., 0., 1., 1.],\n",
      "        [1., 0., 1., 1.],\n",
      "        [1., 0., 1., 1.],\n",
      "        [1., 0., 1., 1.],\n",
      "        [1., 0., 1., 1.]])\n"
     ]
    }
   ],
   "source": [
    "t1 = torch.cat([tensor, tensor, tensor], dim=0)\n",
    "print(t1)"
   ]
  },
  {
   "cell_type": "code",
   "execution_count": 12,
   "metadata": {
    "ExecuteTime": {
     "end_time": "2021-10-03T20:26:26.978976Z",
     "start_time": "2021-10-03T20:26:26.971893Z"
    }
   },
   "outputs": [
    {
     "name": "stdout",
     "output_type": "stream",
     "text": [
      "tensor([[[1., 0., 1., 1.],\n",
      "         [1., 0., 1., 1.],\n",
      "         [1., 0., 1., 1.],\n",
      "         [1., 0., 1., 1.]],\n",
      "\n",
      "        [[1., 0., 1., 1.],\n",
      "         [1., 0., 1., 1.],\n",
      "         [1., 0., 1., 1.],\n",
      "         [1., 0., 1., 1.]],\n",
      "\n",
      "        [[1., 0., 1., 1.],\n",
      "         [1., 0., 1., 1.],\n",
      "         [1., 0., 1., 1.],\n",
      "         [1., 0., 1., 1.]]])\n"
     ]
    }
   ],
   "source": [
    "t1 = torch.stack([tensor, tensor, tensor])\n",
    "print(t1)"
   ]
  },
  {
   "cell_type": "code",
   "execution_count": 13,
   "metadata": {
    "ExecuteTime": {
     "end_time": "2021-10-03T20:26:30.513253Z",
     "start_time": "2021-10-03T20:26:30.505690Z"
    }
   },
   "outputs": [
    {
     "name": "stdout",
     "output_type": "stream",
     "text": [
      "torch.Size([3, 4, 4])\n",
      "torch.Size([4, 3, 4])\n",
      "torch.Size([4, 4, 3])\n"
     ]
    }
   ],
   "source": [
    "t1 = torch.stack([tensor, tensor, tensor],dim=0)\n",
    "print(t1.shape)\n",
    "t1 = torch.stack([tensor, tensor, tensor],dim=1)\n",
    "print(t1.shape)\n",
    "t1 = torch.stack([tensor, tensor, tensor],dim=2)\n",
    "print(t1.shape)"
   ]
  },
  {
   "cell_type": "code",
   "execution_count": 14,
   "metadata": {
    "ExecuteTime": {
     "end_time": "2021-10-03T20:26:33.053250Z",
     "start_time": "2021-10-03T20:26:33.031698Z"
    }
   },
   "outputs": [
    {
     "ename": "IndexError",
     "evalue": "Dimension out of range (expected to be in range of [-3, 2], but got 3)",
     "output_type": "error",
     "traceback": [
      "\u001b[0;31m---------------------------------------------------------------------------\u001b[0m",
      "\u001b[0;31mIndexError\u001b[0m                                Traceback (most recent call last)",
      "Cell \u001b[0;32mIn [14], line 1\u001b[0m\n\u001b[0;32m----> 1\u001b[0m t1 \u001b[39m=\u001b[39m torch\u001b[39m.\u001b[39;49mstack([tensor, tensor, tensor],dim\u001b[39m=\u001b[39;49m\u001b[39m3\u001b[39;49m)\n\u001b[1;32m      2\u001b[0m \u001b[39mprint\u001b[39m(t1\u001b[39m.\u001b[39mshape)\n",
      "\u001b[0;31mIndexError\u001b[0m: Dimension out of range (expected to be in range of [-3, 2], but got 3)"
     ]
    }
   ],
   "source": [
    "t1 = torch.stack([tensor, tensor, tensor],dim=3)\n",
    "print(t1.shape)"
   ]
  },
  {
   "cell_type": "markdown",
   "metadata": {},
   "source": [
    "#### Operacje arytmetyczne"
   ]
  },
  {
   "cell_type": "code",
   "execution_count": 15,
   "metadata": {
    "ExecuteTime": {
     "end_time": "2021-10-03T20:26:39.124597Z",
     "start_time": "2021-10-03T20:26:39.115556Z"
    }
   },
   "outputs": [
    {
     "name": "stdout",
     "output_type": "stream",
     "text": [
      "tensor([[1., 0., 1., 1.],\n",
      "        [1., 0., 1., 1.],\n",
      "        [1., 0., 1., 1.],\n",
      "        [1., 0., 1., 1.]])\n",
      "tensor([[3., 2., 3., 3.],\n",
      "        [3., 2., 3., 3.],\n",
      "        [3., 2., 3., 3.],\n",
      "        [3., 2., 3., 3.]])\n",
      "tensor([[5., 0., 5., 5.],\n",
      "        [5., 0., 5., 5.],\n",
      "        [5., 0., 5., 5.],\n",
      "        [5., 0., 5., 5.]])\n"
     ]
    }
   ],
   "source": [
    "print(tensor)\n",
    "print(tensor+2)\n",
    "print(tensor*5)"
   ]
  },
  {
   "cell_type": "markdown",
   "metadata": {},
   "source": [
    "#### Operacje na elementach"
   ]
  },
  {
   "cell_type": "code",
   "execution_count": 16,
   "metadata": {
    "ExecuteTime": {
     "end_time": "2021-10-03T20:26:42.175668Z",
     "start_time": "2021-10-03T20:26:42.169208Z"
    }
   },
   "outputs": [
    {
     "data": {
      "text/plain": [
       "tensor([[1., 0., 1., 1.],\n",
       "        [1., 0., 1., 1.],\n",
       "        [1., 0., 1., 1.],\n",
       "        [1., 0., 1., 1.]])"
      ]
     },
     "execution_count": 16,
     "metadata": {},
     "output_type": "execute_result"
    }
   ],
   "source": [
    "tensor * tensor"
   ]
  },
  {
   "cell_type": "code",
   "execution_count": 17,
   "metadata": {
    "ExecuteTime": {
     "end_time": "2021-10-03T20:26:42.700577Z",
     "start_time": "2021-10-03T20:26:42.693900Z"
    }
   },
   "outputs": [
    {
     "data": {
      "text/plain": [
       "tensor([[2., 0., 2., 2.],\n",
       "        [2., 0., 2., 2.],\n",
       "        [2., 0., 2., 2.],\n",
       "        [2., 0., 2., 2.]])"
      ]
     },
     "execution_count": 17,
     "metadata": {},
     "output_type": "execute_result"
    }
   ],
   "source": [
    "tensor + tensor"
   ]
  },
  {
   "cell_type": "code",
   "execution_count": 18,
   "metadata": {
    "ExecuteTime": {
     "end_time": "2021-10-03T20:26:44.980550Z",
     "start_time": "2021-10-03T20:26:44.973213Z"
    }
   },
   "outputs": [
    {
     "name": "stdout",
     "output_type": "stream",
     "text": [
      "tensor([[4.8396, 7.7879, 4.1868, 4.8463],\n",
      "        [8.0500, 3.7236, 2.9777, 9.2651],\n",
      "        [8.6896, 4.4343, 9.9098, 8.7157],\n",
      "        [4.1358, 7.7793, 5.4021, 4.3797]])\n",
      "tensor([[4.8396,    inf, 4.1868, 4.8463],\n",
      "        [8.0500,    inf, 2.9777, 9.2651],\n",
      "        [8.6896,    inf, 9.9098, 8.7157],\n",
      "        [4.1358,    inf, 5.4021, 4.3797]])\n"
     ]
    }
   ],
   "source": [
    "rand_tensor = torch.rand(4,4)*10\n",
    "print(rand_tensor)\n",
    "print(rand_tensor / tensor)"
   ]
  },
  {
   "cell_type": "code",
   "execution_count": 19,
   "metadata": {
    "ExecuteTime": {
     "end_time": "2021-10-03T20:26:48.435503Z",
     "start_time": "2021-10-03T20:26:48.428699Z"
    }
   },
   "outputs": [
    {
     "name": "stdout",
     "output_type": "stream",
     "text": [
      "tensor([[4., inf, 7., 6.],\n",
      "        [9., inf, 6., 5.],\n",
      "        [9., inf, 4., 4.],\n",
      "        [2., inf, 8., 6.]])\n",
      "torch.FloatTensor\n"
     ]
    },
    {
     "name": "stderr",
     "output_type": "stream",
     "text": [
      "/var/folders/_1/grmv219n3mzbyfj882m03j3c0000gn/T/ipykernel_4835/688280322.py:2: UserWarning: __floordiv__ is deprecated, and its behavior will change in a future version of pytorch. It currently rounds toward 0 (like the 'trunc' function NOT 'floor'). This results in incorrect rounding for negative values. To keep the current behavior, use torch.div(a, b, rounding_mode='trunc'), or for actual floor division, use torch.div(a, b, rounding_mode='floor').\n",
      "  print(rand_tensor // tensor)\n"
     ]
    }
   ],
   "source": [
    "rand_tensor = torch.rand(4,4)*10\n",
    "print(rand_tensor // tensor)\n",
    "print((tensor / tensor).type())"
   ]
  },
  {
   "cell_type": "markdown",
   "metadata": {},
   "source": [
    "### Mini zadanie"
   ]
  },
  {
   "cell_type": "markdown",
   "metadata": {},
   "source": [
    "Stwórz kwadratową macierz dwuwymiarową, której wartości będą kolejnymi numerami od 1 do zadanej liczby x. Możesz założyć, że pierwiastek kwadratowy z x jest liczbą całkowitą np. dla x=16 powinniśmy otrzymać wyjście. (Pętle są fujka :/ i zabronione)"
   ]
  },
  {
   "cell_type": "raw",
   "metadata": {},
   "source": [
    "tensor([[ 1,  2,  3,  4],\n",
    "        [ 5,  6,  7,  8],\n",
    "        [ 9, 10, 11, 12],\n",
    "        [13, 14, 15, 16]])"
   ]
  },
  {
   "cell_type": "code",
   "execution_count": 24,
   "metadata": {},
   "outputs": [
    {
     "data": {
      "text/plain": [
       "tensor([[ 1,  2,  3,  4],\n",
       "        [ 5,  6,  7,  8],\n",
       "        [ 9, 10, 11, 12],\n",
       "        [13, 14, 15, 16]])"
      ]
     },
     "execution_count": 24,
     "metadata": {},
     "output_type": "execute_result"
    }
   ],
   "source": [
    "x = 16\n",
    "\n",
    "torch.arange(1, x+1).view(int(np.sqrt(x)), int(np.sqrt(x)))"
   ]
  },
  {
   "cell_type": "markdown",
   "metadata": {},
   "source": [
    "Hint: https://pytorch.org/docs/stable/torch.html"
   ]
  },
  {
   "cell_type": "markdown",
   "metadata": {},
   "source": [
    "### Operacje macierzowe"
   ]
  },
  {
   "cell_type": "code",
   "execution_count": 27,
   "metadata": {
    "ExecuteTime": {
     "end_time": "2021-10-03T20:27:12.304392Z",
     "start_time": "2021-10-03T20:27:12.296419Z"
    }
   },
   "outputs": [
    {
     "name": "stdout",
     "output_type": "stream",
     "text": [
      "tensor([[1., 1., 1.],\n",
      "        [0., 0., 0.],\n",
      "        [1., 1., 1.],\n",
      "        [1., 1., 1.]])\n",
      "tensor([[1., 0., 1., 1.],\n",
      "        [1., 0., 1., 1.],\n",
      "        [1., 0., 1., 1.]])\n"
     ]
    }
   ],
   "source": [
    "tensor = torch.ones(4, 3)\n",
    "tensor[1,:] = 0\n",
    "print(tensor)\n",
    "print(tensor.T)"
   ]
  },
  {
   "cell_type": "code",
   "execution_count": 28,
   "metadata": {
    "ExecuteTime": {
     "end_time": "2021-10-03T20:27:15.488893Z",
     "start_time": "2021-10-03T20:27:15.480660Z"
    }
   },
   "outputs": [
    {
     "name": "stdout",
     "output_type": "stream",
     "text": [
      "tensor([[3., 0., 3., 3.],\n",
      "        [0., 0., 0., 0.],\n",
      "        [3., 0., 3., 3.],\n",
      "        [3., 0., 3., 3.]]) \n",
      "\n",
      "tensor([[3., 0., 3., 3.],\n",
      "        [0., 0., 0., 0.],\n",
      "        [3., 0., 3., 3.],\n",
      "        [3., 0., 3., 3.]])\n"
     ]
    }
   ],
   "source": [
    "y1 = tensor.matmul(tensor.T)\n",
    "print(y1,\"\\n\")\n",
    "y2 = tensor @ tensor.T\n",
    "print(y2)"
   ]
  },
  {
   "cell_type": "markdown",
   "metadata": {},
   "source": [
    "### Zaawansowany przykład - regresja"
   ]
  },
  {
   "cell_type": "markdown",
   "metadata": {},
   "source": [
    "Dla wszystkich, którzy potrzebują powtórki z matmy: https://mml-book.github.io/"
   ]
  },
  {
   "cell_type": "code",
   "execution_count": 29,
   "metadata": {
    "ExecuteTime": {
     "end_time": "2021-10-03T20:27:18.992345Z",
     "start_time": "2021-10-03T20:27:18.987623Z"
    }
   },
   "outputs": [],
   "source": [
    "apples_kg_ordered = [2,4,7,3,13]\n",
    "plums_kg_ordered = [3,8,9,1,1]\n",
    "prices = [11.97 , 28.05, 38.98, 10.96, 41.1]"
   ]
  },
  {
   "cell_type": "code",
   "execution_count": 30,
   "metadata": {
    "ExecuteTime": {
     "end_time": "2021-10-03T20:27:36.333433Z",
     "start_time": "2021-10-03T20:27:36.329699Z"
    }
   },
   "outputs": [
    {
     "name": "stdout",
     "output_type": "stream",
     "text": [
      "tensor([[ 2,  4,  7,  3, 13],\n",
      "        [ 3,  8,  9,  1,  1]])\n",
      "tensor([11.9700, 28.0500, 38.9800, 10.9600, 41.1000])\n"
     ]
    }
   ],
   "source": [
    "X = torch.tensor([apples_kg_ordered, plums_kg_ordered])\n",
    "Y = torch.tensor(prices)\n",
    "print(X)\n",
    "print(Y)"
   ]
  },
  {
   "cell_type": "code",
   "execution_count": 31,
   "metadata": {
    "ExecuteTime": {
     "end_time": "2021-10-03T20:27:37.759666Z",
     "start_time": "2021-10-03T20:27:37.752353Z"
    }
   },
   "outputs": [
    {
     "name": "stderr",
     "output_type": "stream",
     "text": [
      "/var/folders/_1/grmv219n3mzbyfj882m03j3c0000gn/T/ipykernel_4835/2705259845.py:2: UserWarning: The use of `x.T` on tensors of dimension other than 2 to reverse their shape is deprecated and it will throw an error in a future release. Consider `x.mT` to transpose batches of matricesor `x.permute(*torch.arange(x.ndim - 1, -1, -1))` to reverse the dimensions of a tensor. (Triggered internally at  /Users/runner/work/pytorch/pytorch/pytorch/aten/src/ATen/native/TensorShape.cpp:2985.)\n",
      "  Y = Y.T\n"
     ]
    },
    {
     "data": {
      "text/plain": [
       "tensor([[ 2.,  3.],\n",
       "        [ 4.,  8.],\n",
       "        [ 7.,  9.],\n",
       "        [ 3.,  1.],\n",
       "        [13.,  1.]])"
      ]
     },
     "execution_count": 31,
     "metadata": {},
     "output_type": "execute_result"
    }
   ],
   "source": [
    "X = X.T.float()\n",
    "Y = Y.T\n",
    "X"
   ]
  },
  {
   "cell_type": "code",
   "execution_count": 32,
   "metadata": {
    "ExecuteTime": {
     "end_time": "2021-10-03T20:27:39.167089Z",
     "start_time": "2021-10-03T20:27:39.160152Z"
    }
   },
   "outputs": [
    {
     "data": {
      "text/plain": [
       "tensor([3.0065, 1.9963])"
      ]
     },
     "execution_count": 32,
     "metadata": {},
     "output_type": "execute_result"
    }
   ],
   "source": [
    "theta = torch.inverse((X.T@X))@X.T@Y\n",
    "theta "
   ]
  },
  {
   "cell_type": "code",
   "execution_count": 33,
   "metadata": {
    "ExecuteTime": {
     "end_time": "2021-10-03T20:27:39.993291Z",
     "start_time": "2021-10-03T20:27:39.987310Z"
    }
   },
   "outputs": [
    {
     "data": {
      "text/plain": [
       "tensor([12.0020, 27.9967, 39.0126, 11.0159, 41.0810])"
      ]
     },
     "execution_count": 33,
     "metadata": {},
     "output_type": "execute_result"
    }
   ],
   "source": [
    "X @ theta"
   ]
  },
  {
   "cell_type": "markdown",
   "metadata": {},
   "source": [
    "# Automatyczne obliczanie gradientu"
   ]
  },
  {
   "cell_type": "markdown",
   "metadata": {},
   "source": [
    "Do automatycznego obliczania gradientu służy wbudowany pakiet torch.autograd, który umożliwia automatyczne obliczanie gradientu dla dowolnego grafu (ciągu obliczeń)"
   ]
  },
  {
   "cell_type": "code",
   "execution_count": 34,
   "metadata": {
    "ExecuteTime": {
     "end_time": "2021-10-03T20:27:48.268465Z",
     "start_time": "2021-10-03T20:27:48.263205Z"
    }
   },
   "outputs": [
    {
     "name": "stdout",
     "output_type": "stream",
     "text": [
      "tensor([1., 1., 1., 1., 1.], requires_grad=True)\n"
     ]
    }
   ],
   "source": [
    "x = torch.ones(5, requires_grad=True)\n",
    "print(x)"
   ]
  },
  {
   "cell_type": "code",
   "execution_count": 35,
   "metadata": {
    "ExecuteTime": {
     "end_time": "2021-10-03T20:27:48.847143Z",
     "start_time": "2021-10-03T20:27:48.840659Z"
    }
   },
   "outputs": [
    {
     "data": {
      "text/plain": [
       "tensor([3., 3., 3., 3., 3.], grad_fn=<AddBackward0>)"
      ]
     },
     "execution_count": 35,
     "metadata": {},
     "output_type": "execute_result"
    }
   ],
   "source": [
    "y = x + 2\n",
    "y"
   ]
  },
  {
   "cell_type": "code",
   "execution_count": 36,
   "metadata": {
    "ExecuteTime": {
     "end_time": "2021-10-03T20:27:49.543702Z",
     "start_time": "2021-10-03T20:27:49.537246Z"
    }
   },
   "outputs": [
    {
     "data": {
      "text/plain": [
       "tensor([2., 2., 2., 2., 2.], grad_fn=<MulBackward0>)"
      ]
     },
     "execution_count": 36,
     "metadata": {},
     "output_type": "execute_result"
    }
   ],
   "source": [
    "y = x * 2\n",
    "y"
   ]
  },
  {
   "cell_type": "code",
   "execution_count": 37,
   "metadata": {
    "ExecuteTime": {
     "end_time": "2021-10-03T20:27:50.780643Z",
     "start_time": "2021-10-03T20:27:50.774267Z"
    }
   },
   "outputs": [
    {
     "data": {
      "text/plain": [
       "tensor(5., grad_fn=<DotBackward0>)"
      ]
     },
     "execution_count": 37,
     "metadata": {},
     "output_type": "execute_result"
    }
   ],
   "source": [
    "y = x @ x.T\n",
    "y"
   ]
  },
  {
   "cell_type": "code",
   "execution_count": 38,
   "metadata": {
    "ExecuteTime": {
     "end_time": "2021-10-03T20:27:51.105811Z",
     "start_time": "2021-10-03T20:27:51.099372Z"
    }
   },
   "outputs": [
    {
     "data": {
      "text/plain": [
       "tensor([-1., -1., -1., -1., -1.], grad_fn=<SubBackward0>)"
      ]
     },
     "execution_count": 38,
     "metadata": {},
     "output_type": "execute_result"
    }
   ],
   "source": [
    "y = x - 2\n",
    "y"
   ]
  },
  {
   "cell_type": "code",
   "execution_count": 39,
   "metadata": {
    "ExecuteTime": {
     "end_time": "2021-10-03T20:27:53.719555Z",
     "start_time": "2021-10-03T20:27:53.714057Z"
    }
   },
   "outputs": [
    {
     "data": {
      "text/plain": [
       "<AccumulateGrad at 0x120475d30>"
      ]
     },
     "execution_count": 39,
     "metadata": {},
     "output_type": "execute_result"
    }
   ],
   "source": [
    "y.grad_fn.next_functions[0][0]"
   ]
  },
  {
   "cell_type": "code",
   "execution_count": 40,
   "metadata": {
    "ExecuteTime": {
     "end_time": "2021-10-03T20:27:54.212895Z",
     "start_time": "2021-10-03T20:27:54.206147Z"
    }
   },
   "outputs": [
    {
     "data": {
      "text/plain": [
       "tensor([1., 1., 1., 1., 1.], requires_grad=True)"
      ]
     },
     "execution_count": 40,
     "metadata": {},
     "output_type": "execute_result"
    }
   ],
   "source": [
    "y.grad_fn.next_functions[0][0].variable"
   ]
  },
  {
   "cell_type": "code",
   "execution_count": 41,
   "metadata": {
    "ExecuteTime": {
     "end_time": "2021-10-03T20:27:56.250008Z",
     "start_time": "2021-10-03T20:27:56.246274Z"
    }
   },
   "outputs": [],
   "source": [
    "z = y * y * 3"
   ]
  },
  {
   "cell_type": "code",
   "execution_count": 42,
   "metadata": {
    "ExecuteTime": {
     "end_time": "2021-10-03T20:27:58.523665Z",
     "start_time": "2021-10-03T20:27:58.516845Z"
    }
   },
   "outputs": [
    {
     "name": "stdout",
     "output_type": "stream",
     "text": [
      "tensor([3., 3., 3., 3., 3.], grad_fn=<MulBackward0>)\n",
      "tensor(3., grad_fn=<MeanBackward0>)\n"
     ]
    }
   ],
   "source": [
    "a = z.mean()\n",
    "print(z)\n",
    "print(a)"
   ]
  },
  {
   "cell_type": "code",
   "execution_count": 43,
   "metadata": {
    "ExecuteTime": {
     "end_time": "2021-10-03T20:27:59.540917Z",
     "start_time": "2021-10-03T20:27:59.529056Z"
    }
   },
   "outputs": [],
   "source": [
    "from torchviz import make_dot"
   ]
  },
  {
   "cell_type": "code",
   "execution_count": 44,
   "metadata": {
    "ExecuteTime": {
     "end_time": "2021-10-03T20:28:01.207596Z",
     "start_time": "2021-10-03T20:28:01.167471Z"
    }
   },
   "outputs": [
    {
     "data": {
      "image/svg+xml": "<?xml version=\"1.0\" encoding=\"UTF-8\" standalone=\"no\"?>\n<!DOCTYPE svg PUBLIC \"-//W3C//DTD SVG 1.1//EN\"\n \"http://www.w3.org/Graphics/SVG/1.1/DTD/svg11.dtd\">\n<!-- Generated by graphviz version 5.0.0 (20220707.1540)\n -->\n<!-- Pages: 1 -->\n<svg width=\"109pt\" height=\"381pt\"\n viewBox=\"0.00 0.00 109.00 381.00\" xmlns=\"http://www.w3.org/2000/svg\" xmlns:xlink=\"http://www.w3.org/1999/xlink\">\n<g id=\"graph0\" class=\"graph\" transform=\"scale(1 1) rotate(0) translate(4 377)\">\n<polygon fill=\"white\" stroke=\"transparent\" points=\"-4,4 -4,-377 105,-377 105,4 -4,4\"/>\n<!-- 4851732544 -->\n<g id=\"node1\" class=\"node\">\n<title>4851732544</title>\n<polygon fill=\"#caff70\" stroke=\"black\" points=\"77.5,-31 23.5,-31 23.5,0 77.5,0 77.5,-31\"/>\n<text text-anchor=\"middle\" x=\"50.5\" y=\"-7\" font-family=\"monospace\" font-size=\"10.00\"> ()</text>\n</g>\n<!-- 4857009632 -->\n<g id=\"node2\" class=\"node\">\n<title>4857009632</title>\n<polygon fill=\"lightgrey\" stroke=\"black\" points=\"98,-86 3,-86 3,-67 98,-67 98,-86\"/>\n<text text-anchor=\"middle\" x=\"50.5\" y=\"-74\" font-family=\"monospace\" font-size=\"10.00\">MeanBackward0</text>\n</g>\n<!-- 4857009632&#45;&gt;4851732544 -->\n<g id=\"edge7\" class=\"edge\">\n<title>4857009632&#45;&gt;4851732544</title>\n<path fill=\"none\" stroke=\"black\" d=\"M50.5,-66.79C50.5,-60.07 50.5,-50.4 50.5,-41.34\"/>\n<polygon fill=\"black\" stroke=\"black\" points=\"54,-41.19 50.5,-31.19 47,-41.19 54,-41.19\"/>\n</g>\n<!-- 4857009728 -->\n<g id=\"node3\" class=\"node\">\n<title>4857009728</title>\n<polygon fill=\"lightgrey\" stroke=\"black\" points=\"95,-141 6,-141 6,-122 95,-122 95,-141\"/>\n<text text-anchor=\"middle\" x=\"50.5\" y=\"-129\" font-family=\"monospace\" font-size=\"10.00\">MulBackward0</text>\n</g>\n<!-- 4857009728&#45;&gt;4857009632 -->\n<g id=\"edge1\" class=\"edge\">\n<title>4857009728&#45;&gt;4857009632</title>\n<path fill=\"none\" stroke=\"black\" d=\"M50.5,-121.75C50.5,-114.8 50.5,-104.85 50.5,-96.13\"/>\n<polygon fill=\"black\" stroke=\"black\" points=\"54,-96.09 50.5,-86.09 47,-96.09 54,-96.09\"/>\n</g>\n<!-- 4857009536 -->\n<g id=\"node4\" class=\"node\">\n<title>4857009536</title>\n<polygon fill=\"lightgrey\" stroke=\"black\" points=\"95,-196 6,-196 6,-177 95,-177 95,-196\"/>\n<text text-anchor=\"middle\" x=\"50.5\" y=\"-184\" font-family=\"monospace\" font-size=\"10.00\">MulBackward0</text>\n</g>\n<!-- 4857009536&#45;&gt;4857009728 -->\n<g id=\"edge2\" class=\"edge\">\n<title>4857009536&#45;&gt;4857009728</title>\n<path fill=\"none\" stroke=\"black\" d=\"M50.5,-176.75C50.5,-169.8 50.5,-159.85 50.5,-151.13\"/>\n<polygon fill=\"black\" stroke=\"black\" points=\"54,-151.09 50.5,-141.09 47,-151.09 54,-151.09\"/>\n</g>\n<!-- 4857009776 -->\n<g id=\"node5\" class=\"node\">\n<title>4857009776</title>\n<polygon fill=\"lightgrey\" stroke=\"black\" points=\"95,-251 6,-251 6,-232 95,-232 95,-251\"/>\n<text text-anchor=\"middle\" x=\"50.5\" y=\"-239\" font-family=\"monospace\" font-size=\"10.00\">SubBackward0</text>\n</g>\n<!-- 4857009776&#45;&gt;4857009536 -->\n<g id=\"edge3\" class=\"edge\">\n<title>4857009776&#45;&gt;4857009536</title>\n<path fill=\"none\" stroke=\"black\" d=\"M45.33,-231.75C43.84,-224.8 43.4,-214.85 44.02,-206.13\"/>\n<polygon fill=\"black\" stroke=\"black\" points=\"47.51,-206.47 45.37,-196.09 40.57,-205.53 47.51,-206.47\"/>\n</g>\n<!-- 4857009776&#45;&gt;4857009536 -->\n<g id=\"edge6\" class=\"edge\">\n<title>4857009776&#45;&gt;4857009536</title>\n<path fill=\"none\" stroke=\"black\" d=\"M55.67,-231.75C57.16,-224.8 57.6,-214.85 56.98,-206.13\"/>\n<polygon fill=\"black\" stroke=\"black\" points=\"60.43,-205.53 55.63,-196.09 53.49,-206.47 60.43,-205.53\"/>\n</g>\n<!-- 4836515120 -->\n<g id=\"node6\" class=\"node\">\n<title>4836515120</title>\n<polygon fill=\"lightgrey\" stroke=\"black\" points=\"101,-306 0,-306 0,-287 101,-287 101,-306\"/>\n<text text-anchor=\"middle\" x=\"50.5\" y=\"-294\" font-family=\"monospace\" font-size=\"10.00\">AccumulateGrad</text>\n</g>\n<!-- 4836515120&#45;&gt;4857009776 -->\n<g id=\"edge4\" class=\"edge\">\n<title>4836515120&#45;&gt;4857009776</title>\n<path fill=\"none\" stroke=\"black\" d=\"M50.5,-286.75C50.5,-279.8 50.5,-269.85 50.5,-261.13\"/>\n<polygon fill=\"black\" stroke=\"black\" points=\"54,-261.09 50.5,-251.09 47,-261.09 54,-261.09\"/>\n</g>\n<!-- 4851733824 -->\n<g id=\"node7\" class=\"node\">\n<title>4851733824</title>\n<polygon fill=\"lightblue\" stroke=\"black\" points=\"77.5,-373 23.5,-373 23.5,-342 77.5,-342 77.5,-373\"/>\n<text text-anchor=\"middle\" x=\"50.5\" y=\"-349\" font-family=\"monospace\" font-size=\"10.00\"> (5)</text>\n</g>\n<!-- 4851733824&#45;&gt;4836515120 -->\n<g id=\"edge5\" class=\"edge\">\n<title>4851733824&#45;&gt;4836515120</title>\n<path fill=\"none\" stroke=\"black\" d=\"M50.5,-341.92C50.5,-334.22 50.5,-324.69 50.5,-316.43\"/>\n<polygon fill=\"black\" stroke=\"black\" points=\"54,-316.25 50.5,-306.25 47,-316.25 54,-316.25\"/>\n</g>\n</g>\n</svg>\n",
      "text/plain": [
       "<graphviz.graphs.Digraph at 0x121801550>"
      ]
     },
     "execution_count": 44,
     "metadata": {},
     "output_type": "execute_result"
    }
   ],
   "source": [
    "make_dot(a)"
   ]
  },
  {
   "cell_type": "markdown",
   "metadata": {},
   "source": [
    "### Propagacja wsteczna gradientu"
   ]
  },
  {
   "cell_type": "code",
   "execution_count": 45,
   "metadata": {
    "ExecuteTime": {
     "end_time": "2021-10-03T20:28:04.587308Z",
     "start_time": "2021-10-03T20:28:04.577588Z"
    }
   },
   "outputs": [
    {
     "name": "stdout",
     "output_type": "stream",
     "text": [
      "tensor([1.], requires_grad=True)\n"
     ]
    },
    {
     "data": {
      "text/plain": [
       "tensor([125.], grad_fn=<PowBackward0>)"
      ]
     },
     "execution_count": 45,
     "metadata": {},
     "output_type": "execute_result"
    }
   ],
   "source": [
    "x = torch.ones(1, requires_grad=True)\n",
    "print(x)\n",
    "y = (x+4)**3\n",
    "y"
   ]
  },
  {
   "cell_type": "code",
   "execution_count": 46,
   "metadata": {
    "ExecuteTime": {
     "end_time": "2021-10-03T20:28:06.372738Z",
     "start_time": "2021-10-03T20:28:06.333965Z"
    }
   },
   "outputs": [
    {
     "data": {
      "image/svg+xml": "<?xml version=\"1.0\" encoding=\"UTF-8\" standalone=\"no\"?>\n<!DOCTYPE svg PUBLIC \"-//W3C//DTD SVG 1.1//EN\"\n \"http://www.w3.org/Graphics/SVG/1.1/DTD/svg11.dtd\">\n<!-- Generated by graphviz version 5.0.0 (20220707.1540)\n -->\n<!-- Pages: 1 -->\n<svg width=\"109pt\" height=\"271pt\"\n viewBox=\"0.00 0.00 109.00 271.00\" xmlns=\"http://www.w3.org/2000/svg\" xmlns:xlink=\"http://www.w3.org/1999/xlink\">\n<g id=\"graph0\" class=\"graph\" transform=\"scale(1 1) rotate(0) translate(4 267)\">\n<polygon fill=\"white\" stroke=\"transparent\" points=\"-4,4 -4,-267 105,-267 105,4 -4,4\"/>\n<!-- 4851734544 -->\n<g id=\"node1\" class=\"node\">\n<title>4851734544</title>\n<polygon fill=\"#caff70\" stroke=\"black\" points=\"77.5,-31 23.5,-31 23.5,0 77.5,0 77.5,-31\"/>\n<text text-anchor=\"middle\" x=\"50.5\" y=\"-7\" font-family=\"monospace\" font-size=\"10.00\"> (1)</text>\n</g>\n<!-- 4857010496 -->\n<g id=\"node2\" class=\"node\">\n<title>4857010496</title>\n<polygon fill=\"lightgrey\" stroke=\"black\" points=\"95,-86 6,-86 6,-67 95,-67 95,-86\"/>\n<text text-anchor=\"middle\" x=\"50.5\" y=\"-74\" font-family=\"monospace\" font-size=\"10.00\">PowBackward0</text>\n</g>\n<!-- 4857010496&#45;&gt;4851734544 -->\n<g id=\"edge4\" class=\"edge\">\n<title>4857010496&#45;&gt;4851734544</title>\n<path fill=\"none\" stroke=\"black\" d=\"M50.5,-66.79C50.5,-60.07 50.5,-50.4 50.5,-41.34\"/>\n<polygon fill=\"black\" stroke=\"black\" points=\"54,-41.19 50.5,-31.19 47,-41.19 54,-41.19\"/>\n</g>\n<!-- 4857010880 -->\n<g id=\"node3\" class=\"node\">\n<title>4857010880</title>\n<polygon fill=\"lightgrey\" stroke=\"black\" points=\"95,-141 6,-141 6,-122 95,-122 95,-141\"/>\n<text text-anchor=\"middle\" x=\"50.5\" y=\"-129\" font-family=\"monospace\" font-size=\"10.00\">AddBackward0</text>\n</g>\n<!-- 4857010880&#45;&gt;4857010496 -->\n<g id=\"edge1\" class=\"edge\">\n<title>4857010880&#45;&gt;4857010496</title>\n<path fill=\"none\" stroke=\"black\" d=\"M50.5,-121.75C50.5,-114.8 50.5,-104.85 50.5,-96.13\"/>\n<polygon fill=\"black\" stroke=\"black\" points=\"54,-96.09 50.5,-86.09 47,-96.09 54,-96.09\"/>\n</g>\n<!-- 4857010736 -->\n<g id=\"node4\" class=\"node\">\n<title>4857010736</title>\n<polygon fill=\"lightgrey\" stroke=\"black\" points=\"101,-196 0,-196 0,-177 101,-177 101,-196\"/>\n<text text-anchor=\"middle\" x=\"50.5\" y=\"-184\" font-family=\"monospace\" font-size=\"10.00\">AccumulateGrad</text>\n</g>\n<!-- 4857010736&#45;&gt;4857010880 -->\n<g id=\"edge2\" class=\"edge\">\n<title>4857010736&#45;&gt;4857010880</title>\n<path fill=\"none\" stroke=\"black\" d=\"M50.5,-176.75C50.5,-169.8 50.5,-159.85 50.5,-151.13\"/>\n<polygon fill=\"black\" stroke=\"black\" points=\"54,-151.09 50.5,-141.09 47,-151.09 54,-151.09\"/>\n</g>\n<!-- 4852157952 -->\n<g id=\"node5\" class=\"node\">\n<title>4852157952</title>\n<polygon fill=\"lightblue\" stroke=\"black\" points=\"77.5,-263 23.5,-263 23.5,-232 77.5,-232 77.5,-263\"/>\n<text text-anchor=\"middle\" x=\"50.5\" y=\"-239\" font-family=\"monospace\" font-size=\"10.00\"> (1)</text>\n</g>\n<!-- 4852157952&#45;&gt;4857010736 -->\n<g id=\"edge3\" class=\"edge\">\n<title>4852157952&#45;&gt;4857010736</title>\n<path fill=\"none\" stroke=\"black\" d=\"M50.5,-231.92C50.5,-224.22 50.5,-214.69 50.5,-206.43\"/>\n<polygon fill=\"black\" stroke=\"black\" points=\"54,-206.25 50.5,-196.25 47,-206.25 54,-206.25\"/>\n</g>\n</g>\n</svg>\n",
      "text/plain": [
       "<graphviz.graphs.Digraph at 0x1218019d0>"
      ]
     },
     "execution_count": 46,
     "metadata": {},
     "output_type": "execute_result"
    }
   ],
   "source": [
    "make_dot(y)"
   ]
  },
  {
   "cell_type": "code",
   "execution_count": 47,
   "metadata": {
    "ExecuteTime": {
     "end_time": "2021-10-03T20:28:10.207609Z",
     "start_time": "2021-10-03T20:28:08.935026Z"
    },
    "scrolled": true
   },
   "outputs": [
    {
     "data": {
      "text/plain": [
       "tensor([75.])"
      ]
     },
     "execution_count": 47,
     "metadata": {},
     "output_type": "execute_result"
    }
   ],
   "source": [
    "y.backward()\n",
    "x.grad"
   ]
  },
  {
   "cell_type": "markdown",
   "metadata": {},
   "source": [
    "#### Obliczenia z pominięciem gradientów"
   ]
  },
  {
   "cell_type": "code",
   "execution_count": 48,
   "metadata": {
    "ExecuteTime": {
     "end_time": "2021-10-03T20:28:40.213940Z",
     "start_time": "2021-10-03T20:28:40.204887Z"
    }
   },
   "outputs": [
    {
     "name": "stdout",
     "output_type": "stream",
     "text": [
      "tensor([[1.8111, 1.9185, 1.9279],\n",
      "        [1.6998, 1.8824, 1.9733],\n",
      "        [1.0479, 1.1462, 0.9463]])\n",
      "tensor([[1.8111, 1.9185, 1.9279],\n",
      "        [1.6998, 1.8824, 1.9733],\n",
      "        [1.0479, 1.1462, 0.9463]], grad_fn=<MmBackward0>)\n"
     ]
    }
   ],
   "source": [
    "t1 = torch.rand(3,4, requires_grad=True)\n",
    "t2 = torch.rand(4,3, requires_grad=True)\n",
    "with torch.no_grad():\n",
    "    y = t1@t2\n",
    "print(y)\n",
    "print(t1@t2)"
   ]
  },
  {
   "cell_type": "markdown",
   "metadata": {},
   "source": [
    "#### Funkcja backward pozwala nam policzyć pochodną cząstkową w punkcie dla wszystkich źródeł (liści w grafie obliczeń)"
   ]
  },
  {
   "cell_type": "code",
   "execution_count": 49,
   "metadata": {
    "ExecuteTime": {
     "end_time": "2021-10-03T20:28:47.055957Z",
     "start_time": "2021-10-03T20:28:47.051908Z"
    }
   },
   "outputs": [],
   "source": [
    "x = torch.ones(5)  # input tensor\n",
    "y = torch.zeros(3)  # expected output"
   ]
  },
  {
   "cell_type": "code",
   "execution_count": 50,
   "metadata": {
    "ExecuteTime": {
     "end_time": "2021-10-03T20:28:47.686866Z",
     "start_time": "2021-10-03T20:28:47.682315Z"
    }
   },
   "outputs": [],
   "source": [
    "w = torch.randn(5, 3, requires_grad=True) #weights\n",
    "b = torch.randn(3, requires_grad=True) #bias"
   ]
  },
  {
   "cell_type": "code",
   "execution_count": 51,
   "metadata": {
    "ExecuteTime": {
     "end_time": "2021-10-03T20:28:48.211552Z",
     "start_time": "2021-10-03T20:28:48.207316Z"
    }
   },
   "outputs": [],
   "source": [
    "z = torch.matmul(x, w)+b"
   ]
  },
  {
   "cell_type": "code",
   "execution_count": 52,
   "metadata": {
    "ExecuteTime": {
     "end_time": "2021-10-03T20:28:49.021177Z",
     "start_time": "2021-10-03T20:28:49.014064Z"
    }
   },
   "outputs": [
    {
     "data": {
      "text/plain": [
       "tensor(1.5580, grad_fn=<MeanBackward0>)"
      ]
     },
     "execution_count": 52,
     "metadata": {},
     "output_type": "execute_result"
    }
   ],
   "source": [
    "loss = torch.abs((z-y)).mean()\n",
    "loss"
   ]
  },
  {
   "cell_type": "code",
   "execution_count": 53,
   "metadata": {
    "ExecuteTime": {
     "end_time": "2021-10-03T20:28:50.333512Z",
     "start_time": "2021-10-03T20:28:50.326613Z"
    }
   },
   "outputs": [
    {
     "name": "stdout",
     "output_type": "stream",
     "text": [
      "tensor([[ 0.3333, -0.3333,  0.3333],\n",
      "        [ 0.3333, -0.3333,  0.3333],\n",
      "        [ 0.3333, -0.3333,  0.3333],\n",
      "        [ 0.3333, -0.3333,  0.3333],\n",
      "        [ 0.3333, -0.3333,  0.3333]])\n",
      "tensor([ 0.3333, -0.3333,  0.3333])\n"
     ]
    }
   ],
   "source": [
    "loss.backward()\n",
    "print(w.grad)\n",
    "print(b.grad)"
   ]
  },
  {
   "cell_type": "markdown",
   "metadata": {},
   "source": [
    "# Regresja raz jeszcze"
   ]
  },
  {
   "cell_type": "code",
   "execution_count": 54,
   "metadata": {
    "ExecuteTime": {
     "end_time": "2021-10-03T20:29:08.153286Z",
     "start_time": "2021-10-03T20:29:08.148499Z"
    }
   },
   "outputs": [],
   "source": [
    "apples_kg_ordered = [2,4,7,3,13]\n",
    "plums_kg_ordered = [3,8,9,1,1]\n",
    "prices = [11.97 , 28.05, 38.98, 10.96, 41.1]"
   ]
  },
  {
   "cell_type": "code",
   "execution_count": 55,
   "metadata": {
    "ExecuteTime": {
     "end_time": "2021-10-03T20:29:23.169165Z",
     "start_time": "2021-10-03T20:29:23.160438Z"
    }
   },
   "outputs": [
    {
     "name": "stdout",
     "output_type": "stream",
     "text": [
      "tensor([[ 2.,  3.],\n",
      "        [ 4.,  8.],\n",
      "        [ 7.,  9.],\n",
      "        [ 3.,  1.],\n",
      "        [13.,  1.]])\n",
      "tensor([11.9700, 28.0500, 38.9800, 10.9600, 41.1000])\n"
     ]
    }
   ],
   "source": [
    "X = torch.tensor([apples_kg_ordered,plums_kg_ordered])\n",
    "Y = torch.tensor(prices)\n",
    "X = X.T.float()\n",
    "Y = Y.T\n",
    "print(X)\n",
    "print(Y)"
   ]
  },
  {
   "cell_type": "code",
   "execution_count": 56,
   "metadata": {
    "ExecuteTime": {
     "end_time": "2021-10-03T20:29:24.584089Z",
     "start_time": "2021-10-03T20:29:24.580098Z"
    }
   },
   "outputs": [],
   "source": [
    "params = torch.rand(2,requires_grad=True)"
   ]
  },
  {
   "cell_type": "code",
   "execution_count": 57,
   "metadata": {
    "ExecuteTime": {
     "end_time": "2021-10-03T20:29:25.706990Z",
     "start_time": "2021-10-03T20:29:25.700347Z"
    }
   },
   "outputs": [
    {
     "data": {
      "text/plain": [
       "tensor([1.8350, 4.1985, 6.0263, 1.8278, 7.0399], grad_fn=<MvBackward0>)"
      ]
     },
     "execution_count": 57,
     "metadata": {},
     "output_type": "execute_result"
    }
   ],
   "source": [
    "y_pred = X@params\n",
    "y_pred"
   ]
  },
  {
   "cell_type": "code",
   "execution_count": 58,
   "metadata": {
    "ExecuteTime": {
     "end_time": "2021-10-03T20:29:27.408503Z",
     "start_time": "2021-10-03T20:29:27.401770Z"
    }
   },
   "outputs": [
    {
     "data": {
      "text/plain": [
       "tensor(600.2085, grad_fn=<MeanBackward0>)"
      ]
     },
     "execution_count": 58,
     "metadata": {},
     "output_type": "execute_result"
    }
   ],
   "source": [
    "loss = (torch.square(Y-y_pred)).mean()\n",
    "loss"
   ]
  },
  {
   "cell_type": "code",
   "execution_count": 59,
   "metadata": {
    "ExecuteTime": {
     "end_time": "2021-10-03T20:29:30.957700Z",
     "start_time": "2021-10-03T20:29:30.953854Z"
    }
   },
   "outputs": [],
   "source": [
    "loss.backward()"
   ]
  },
  {
   "cell_type": "code",
   "execution_count": 60,
   "metadata": {
    "ExecuteTime": {
     "end_time": "2021-10-03T20:29:32.359562Z",
     "start_time": "2021-10-03T20:29:32.353667Z"
    },
    "scrolled": true
   },
   "outputs": [
    {
     "data": {
      "text/plain": [
       "tensor([-326.6116, -224.3970])"
      ]
     },
     "execution_count": 60,
     "metadata": {},
     "output_type": "execute_result"
    }
   ],
   "source": [
    "params.grad"
   ]
  },
  {
   "cell_type": "code",
   "execution_count": 61,
   "metadata": {
    "ExecuteTime": {
     "end_time": "2021-10-03T20:29:45.863575Z",
     "start_time": "2021-10-03T20:29:45.859957Z"
    }
   },
   "outputs": [],
   "source": [
    "lr = 0.001"
   ]
  },
  {
   "cell_type": "code",
   "execution_count": 62,
   "metadata": {
    "ExecuteTime": {
     "end_time": "2021-10-03T20:29:46.627887Z",
     "start_time": "2021-10-03T20:29:46.619583Z"
    }
   },
   "outputs": [
    {
     "name": "stdout",
     "output_type": "stream",
     "text": [
      "tensor([0.5212, 0.2642], requires_grad=True)\n"
     ]
    },
    {
     "data": {
      "text/plain": [
       "tensor([0.8478, 0.4886], grad_fn=<SubBackward0>)"
      ]
     },
     "execution_count": 62,
     "metadata": {},
     "output_type": "execute_result"
    }
   ],
   "source": [
    "print(params)\n",
    "params - lr *params.grad"
   ]
  },
  {
   "cell_type": "code",
   "execution_count": 63,
   "metadata": {
    "ExecuteTime": {
     "end_time": "2021-10-03T20:32:37.531637Z",
     "start_time": "2021-10-03T20:32:37.527651Z"
    }
   },
   "outputs": [],
   "source": [
    "params = torch.rand(2,requires_grad=True)"
   ]
  },
  {
   "cell_type": "code",
   "execution_count": 64,
   "metadata": {
    "ExecuteTime": {
     "end_time": "2021-10-03T20:32:38.119445Z",
     "start_time": "2021-10-03T20:32:38.067808Z"
    },
    "scrolled": true
   },
   "outputs": [
    {
     "name": "stdout",
     "output_type": "stream",
     "text": [
      "Param values: 1.2044, 0.69362 Gradients: -275.1, -190.4 \n",
      "Param values: 1.4434, 0.85925 Gradients: -239.0, -165.6 \n",
      "Param values: 1.651, 1.0034 Gradients: -207.7, -144.1 \n",
      "Param values: 1.8314, 1.1288 Gradients: -180.4, -125.4 \n",
      "Param values: 1.9881, 1.2379 Gradients: -156.7, -109.1 \n",
      "Param values: 2.1242, 1.3329 Gradients: -136.1, -94.99 \n",
      "Param values: 2.2425, 1.4156 Gradients: -118.2, -82.69 \n",
      "Param values: 2.3451, 1.4876 Gradients: -102.7, -72.0 \n",
      "Param values: 2.4343, 1.5503 Gradients: -89.16, -62.7 \n",
      "Param values: 2.5117, 1.6049 Gradients: -77.41, -54.62 \n",
      "Param values: 2.5789, 1.6525 Gradients: -67.21, -47.58 \n",
      "Param values: 2.6372, 1.6939 Gradients: -58.34, -41.47 \n",
      "Param values: 2.6879, 1.7301 Gradients: -50.64, -36.15 \n",
      "Param values: 2.7318, 1.7616 Gradients: -43.94, -31.53 \n",
      "Param values: 2.7699, 1.7891 Gradients: -38.12, -27.5 \n",
      "Param values: 2.803, 1.8131 Gradients: -33.07, -24.0 \n",
      "Param values: 2.8317, 1.8341 Gradients: -28.68, -20.96 \n",
      "Param values: 2.8566, 1.8524 Gradients: -24.87, -18.31 \n",
      "Param values: 2.8781, 1.8684 Gradients: -21.55, -16.0 \n",
      "Param values: 2.8968, 1.8824 Gradients: -18.67, -13.99 \n",
      "Param values: 2.913, 1.8946 Gradients: -16.17, -12.25 \n",
      "Param values: 2.927, 1.9053 Gradients: -14.0, -10.73 \n",
      "Param values: 2.9391, 1.9147 Gradients: -12.12, -9.401 \n",
      "Param values: 2.9496, 1.923 Gradients: -10.48, -8.247 \n",
      "Param values: 2.9586, 1.9302 Gradients: -9.059, -7.242 \n",
      "Param values: 2.9664, 1.9366 Gradients: -7.825, -6.366 \n",
      "Param values: 2.9732, 1.9422 Gradients: -6.754, -5.603 \n",
      "Param values: 2.979, 1.9471 Gradients: -5.825, -4.937 \n",
      "Param values: 2.984, 1.9515 Gradients: -5.018, -4.356 \n",
      "Param values: 2.9884, 1.9553 Gradients: -4.318, -3.85 \n",
      "Param values: 2.9921, 1.9587 Gradients: -3.712, -3.407 \n",
      "Param values: 2.9953, 1.9618 Gradients: -3.185, -3.021 \n",
      "Param values: 2.998, 1.9645 Gradients: -2.729, -2.683 \n",
      "Param values: 3.0003, 1.9668 Gradients: -2.334, -2.388 \n",
      "Param values: 3.0023, 1.969 Gradients: -1.992, -2.13 \n",
      "Param values: 3.004, 1.9709 Gradients: -1.695, -1.904 \n",
      "Param values: 3.0055, 1.9726 Gradients: -1.439, -1.706 \n",
      "Param values: 3.0067, 1.9741 Gradients: -1.217, -1.532 \n",
      "Param values: 3.0077, 1.9755 Gradients: -1.025, -1.379 \n",
      "Param values: 3.0086, 1.9767 Gradients: -0.859, -1.245 \n",
      "Param values: 3.0093, 1.9779 Gradients: -0.7158, -1.127 \n",
      "Param values: 3.0099, 1.9789 Gradients: -0.5924, -1.024 \n",
      "Param values: 3.0103, 1.9798 Gradients: -0.4859, -0.932 \n",
      "Param values: 3.0107, 1.9807 Gradients: -0.3943, -0.8511 \n",
      "Param values: 3.0111, 1.9815 Gradients: -0.3155, -0.7795 \n",
      "Param values: 3.0113, 1.9822 Gradients: -0.2479, -0.7161 \n",
      "Param values: 3.0115, 1.9828 Gradients: -0.1899, -0.6598 \n",
      "Param values: 3.0116, 1.9834 Gradients: -0.1402, -0.6098 \n",
      "Param values: 3.0117, 1.984 Gradients: -0.09783, -0.5652 \n",
      "Param values: 3.0118, 1.9845 Gradients: -0.06173, -0.5253 \n"
     ]
    }
   ],
   "source": [
    "for epoch in range(50):\n",
    "    y_pred = X@params\n",
    "    loss = (torch.square(Y-y_pred)).mean()\n",
    "    loss.backward()\n",
    "    with torch.no_grad():\n",
    "        params.copy_(params - lr *params.grad) # podstawienie pod params nowej wartości\n",
    "    print(f\"Param values: {params[0]:.5}, {params[1]:.5}\", f\"Gradients: {params.grad[0]:.4}, {params.grad[1]:.4} \")\n",
    "    # Zerujemy gradienty\n",
    "    params.grad.zero_()"
   ]
  },
  {
   "cell_type": "markdown",
   "metadata": {},
   "source": [
    "### Zadanie\n",
    "Tym razem na innym targu do ceny owoców doliczany jest stały koszt reklamówki. Napisz model regresji liniowej, który oszacuje cenę kg ziemniaków, pomidorów i reklamówki"
   ]
  },
  {
   "cell_type": "code",
   "execution_count": 100,
   "metadata": {
    "ExecuteTime": {
     "end_time": "2021-10-03T20:32:58.938017Z",
     "start_time": "2021-10-03T20:32:58.931943Z"
    }
   },
   "outputs": [],
   "source": [
    "potatoes_kg_ordered = [1,3,7,3,10,6,8,4,3,1,2,0]\n",
    "tomatoes_kg_ordered = [5,2,3,1,2,3,6,7,3,2,3,1]\n",
    "prices = [22.37 , 14.45, 26.6, 10.44, 28.49, 24.52, 40.38, 36.51, 18.50, 10.46, 16.51, 4.58]"
   ]
  },
  {
   "cell_type": "code",
   "execution_count": 107,
   "metadata": {},
   "outputs": [],
   "source": [
    "X = torch.tensor([potatoes_kg_ordered,\n",
    "                  tomatoes_kg_ordered])\n",
    "\n",
    "X = X.T.float()\n",
    "\n",
    "Y = torch.tensor(prices)"
   ]
  },
  {
   "cell_type": "code",
   "execution_count": 108,
   "metadata": {},
   "outputs": [],
   "source": [
    "params = torch.rand(2, requires_grad=True)"
   ]
  },
  {
   "cell_type": "code",
   "execution_count": 111,
   "metadata": {},
   "outputs": [
    {
     "name": "stdout",
     "output_type": "stream",
     "text": [
      "Param values: 0.8701, 0.27253 Gradients: -169.9, -137.7 \n",
      "Param values: 1.0278, 0.40186 Gradients: -157.7, -129.3 \n",
      "Param values: 1.174, 0.52337 Gradients: -146.3, -121.5 \n",
      "Param values: 1.3097, 0.6376 Gradients: -135.6, -114.2 \n",
      "Param values: 1.4354, 0.74503 Gradients: -125.7, -107.4 \n",
      "Param values: 1.552, 0.84612 Gradients: -116.5, -101.1 \n",
      "Param values: 1.6599, 0.94128 Gradients: -107.9, -95.17 \n",
      "Param values: 1.7599, 1.0309 Gradients: -99.95, -89.64 \n",
      "Param values: 1.8524, 1.1154 Gradients: -92.5, -84.49 \n",
      "Param values: 1.9379, 1.1951 Gradients: -85.57, -79.67 \n",
      "Param values: 2.017, 1.2703 Gradients: -79.12, -75.18 \n",
      "Param values: 2.0902, 1.3413 Gradients: -73.11, -70.99 \n",
      "Param values: 2.1577, 1.4083 Gradients: -67.51, -67.07 \n",
      "Param values: 2.22, 1.4717 Gradients: -62.3, -63.42 \n",
      "Param values: 2.2774, 1.5317 Gradients: -57.46, -60.0 \n",
      "Param values: 2.3304, 1.5886 Gradients: -52.94, -56.81 \n",
      "Param values: 2.3791, 1.6424 Gradients: -48.74, -53.83 \n",
      "Param values: 2.4239, 1.6934 Gradients: -44.83, -51.05 \n",
      "Param values: 2.4651, 1.7419 Gradients: -41.19, -48.45 \n",
      "Param values: 2.5029, 1.7879 Gradients: -37.81, -46.01 \n",
      "Param values: 2.5376, 1.8316 Gradients: -34.65, -43.74 \n",
      "Param values: 2.5693, 1.8733 Gradients: -31.72, -41.62 \n",
      "Param values: 2.5983, 1.9129 Gradients: -29.0, -39.63 \n",
      "Param values: 2.6248, 1.9507 Gradients: -26.46, -37.77 \n",
      "Param values: 2.6489, 1.9867 Gradients: -24.1, -36.03 \n",
      "Param values: 2.6708, 2.0211 Gradients: -21.91, -34.4 \n",
      "Param values: 2.6906, 2.054 Gradients: -19.87, -32.88 \n",
      "Param values: 2.7086, 2.0854 Gradients: -17.97, -31.45 \n",
      "Param values: 2.7248, 2.1155 Gradients: -16.21, -30.12 \n",
      "Param values: 2.7394, 2.1444 Gradients: -14.57, -28.87 \n",
      "Param values: 2.7524, 2.1721 Gradients: -13.05, -27.69 \n",
      "Param values: 2.7641, 2.1987 Gradients: -11.63, -26.59 \n",
      "Param values: 2.7744, 2.2243 Gradients: -10.32, -25.56 \n",
      "Param values: 2.7835, 2.2488 Gradients: -9.1, -24.6 \n",
      "Param values: 2.7915, 2.2725 Gradients: -7.967, -23.69 \n",
      "Param values: 2.7984, 2.2954 Gradients: -6.916, -22.84 \n",
      "Param values: 2.8043, 2.3174 Gradients: -5.941, -22.04 \n",
      "Param values: 2.8094, 2.3387 Gradients: -5.036, -21.28 \n",
      "Param values: 2.8136, 2.3593 Gradients: -4.197, -20.58 \n",
      "Param values: 2.817, 2.3792 Gradients: -3.42, -19.91 \n",
      "Param values: 2.8197, 2.3985 Gradients: -2.699, -19.29 \n",
      "Param values: 2.8217, 2.4172 Gradients: -2.031, -18.7 \n",
      "Param values: 2.8231, 2.4353 Gradients: -1.413, -18.14 \n",
      "Param values: 2.824, 2.4529 Gradients: -0.8409, -17.62 \n",
      "Param values: 2.8243, 2.47 Gradients: -0.3117, -17.13 \n",
      "Param values: 2.8241, 2.4867 Gradients: 0.1776, -16.66 \n",
      "Param values: 2.8235, 2.5029 Gradients: 0.6298, -16.22 \n",
      "Param values: 2.8224, 2.5187 Gradients: 1.047, -15.81 \n",
      "Param values: 2.821, 2.5342 Gradients: 1.433, -15.41 \n",
      "Param values: 2.8192, 2.5492 Gradients: 1.788, -15.04 \n"
     ]
    }
   ],
   "source": [
    "bag_price = torch.rand(1, requires_grad=True)\n",
    "\n",
    "for epoch in range(50):\n",
    "    y_pred = X @ params + bag_price\n",
    "    loss = (torch.square(Y - y_pred)).mean()\n",
    "    loss.backward()\n",
    "    with torch.no_grad():\n",
    "        params.copy_(params - lr * params.grad) # podstawienie pod params nowej wartości\n",
    "    print(f\"Param values: {params[0]:.5}, {params[1]:.5}\", f\"Gradients: {params.grad[0]:.4}, {params.grad[1]:.4} \")\n",
    "    # Zerujemy gradienty\n",
    "    params.grad.zero_()"
   ]
  },
  {
   "cell_type": "code",
   "execution_count": null,
   "metadata": {},
   "outputs": [],
   "source": []
  }
 ],
 "metadata": {
  "kernelspec": {
   "display_name": "Python 3.8.6 ('SSNE')",
   "language": "python",
   "name": "python3"
  },
  "language_info": {
   "codemirror_mode": {
    "name": "ipython",
    "version": 3
   },
   "file_extension": ".py",
   "mimetype": "text/x-python",
   "name": "python",
   "nbconvert_exporter": "python",
   "pygments_lexer": "ipython3",
   "version": "3.8.13"
  },
  "varInspector": {
   "cols": {
    "lenName": 16,
    "lenType": 16,
    "lenVar": 40
   },
   "kernels_config": {
    "python": {
     "delete_cmd_postfix": "",
     "delete_cmd_prefix": "del ",
     "library": "var_list.py",
     "varRefreshCmd": "print(var_dic_list())"
    },
    "r": {
     "delete_cmd_postfix": ") ",
     "delete_cmd_prefix": "rm(",
     "library": "var_list.r",
     "varRefreshCmd": "cat(var_dic_list()) "
    }
   },
   "types_to_exclude": [
    "module",
    "function",
    "builtin_function_or_method",
    "instance",
    "_Feature"
   ],
   "window_display": false
  },
  "vscode": {
   "interpreter": {
    "hash": "bd6aaa34b2eaa27615c35a49f49fcac2b9fb6ef67dd9795ab23618a0054bdc5d"
   }
  }
 },
 "nbformat": 4,
 "nbformat_minor": 4
}
